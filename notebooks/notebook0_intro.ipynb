{
 "cells": [
  {
   "cell_type": "markdown",
   "metadata": {},
   "source": [
    "# TLS : de quoi parle-t-on ?"
   ]
  },
  {
   "cell_type": "markdown",
   "metadata": {
    "collapsed": true
   },
   "source": [
    "## Propriétés de sécurité de TLS\n",
    "* Confidentialité des échanges applicatifs\n",
    "* Intégrité des échanges applicatifs\n",
    "* Authentification du serveur"
   ]
  },
  {
   "cell_type": "markdown",
   "metadata": {
    "collapsed": true
   },
   "source": [
    "## DNS over TLS : une amélioration pour la vie privée\n",
    "* Port 853 alloué par l'IANA\n",
    "* Maintien de session pour plusieurs requêtes DNS\n",
    "* Protection opportuniste, ou bien provisionnée"
   ]
  },
  {
   "cell_type": "markdown",
   "metadata": {
    "collapsed": true
   },
   "source": [
    "## DTLS pour les contextes à datagrammes\n",
    "* Pas de fragmentation\n",
    "* Numéros de séquence explicites\n",
    "* Chiffrement sans état (pas de RC4... et tant mieux)\n",
    "* Cookie anti-DDoS pour éviter la réservation de connexions"
   ]
  }
 ],
 "metadata": {
  "kernelspec": {
   "display_name": "Python 2",
   "language": "python",
   "name": "python2"
  },
  "language_info": {
   "codemirror_mode": {
    "name": "ipython",
    "version": 2
   },
   "file_extension": ".py",
   "mimetype": "text/x-python",
   "name": "python",
   "nbconvert_exporter": "python",
   "pygments_lexer": "ipython2",
   "version": "2.7.13"
  }
 },
 "nbformat": 4,
 "nbformat_minor": 0
}
