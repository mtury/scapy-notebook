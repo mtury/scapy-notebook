{
 "cells": [
  {
   "cell_type": "markdown",
   "metadata": {},
   "source": [
    "# Notebook 1: X.509 certificates"
   ]
  },
  {
   "cell_type": "markdown",
   "metadata": {},
   "source": [
    "## Jupyter notebook cheat sheet"
   ]
  },
  {
   "cell_type": "code",
   "execution_count": 1,
   "metadata": {
    "collapsed": false
   },
   "outputs": [
    {
     "name": "stdout",
     "output_type": "stream",
     "text": [
      "Hello!\n"
     ]
    }
   ],
   "source": [
    "# Use Shift+Enter to run the current cell\n",
    "print 'Hello!'"
   ]
  },
  {
   "cell_type": "code",
   "execution_count": 2,
   "metadata": {
    "collapsed": false
   },
   "outputs": [
    {
     "name": "stdout",
     "output_type": "stream",
     "text": [
      "This is the time right now: 2017-07-05 14:11:22.267464\n"
     ]
    }
   ],
   "source": [
    "# You may also use Alt+Enter to run the current cell, then create a new cell right below\n",
    "from datetime import datetime\n",
    "print 'This is the time right now: %s' % datetime.now()"
   ]
  },
  {
   "cell_type": "code",
   "execution_count": 3,
   "metadata": {
    "collapsed": false
   },
   "outputs": [
    {
     "name": "stdout",
     "output_type": "stream",
     "text": [
      "Got it!\n"
     ]
    }
   ],
   "source": [
    "# If needed, pause the cell edition with Ctrl-M.\n",
    "# Then you can delete the current cell with D+D. You can also undo cell deletion with Z.\n",
    "# Finally, should Jupyter become stuck in execution, use Kernel/Interrupt from the menu bar.\n",
    "print 'Got it!'"
   ]
  },
  {
   "cell_type": "markdown",
   "metadata": {},
   "source": [
    "## Data manipulation with Scapy"
   ]
  },
  {
   "cell_type": "code",
   "execution_count": 4,
   "metadata": {
    "collapsed": true
   },
   "outputs": [],
   "source": [
    "from scapy.all import *"
   ]
  },
  {
   "cell_type": "code",
   "execution_count": 5,
   "metadata": {
    "collapsed": false
   },
   "outputs": [
    {
     "name": "stdout",
     "output_type": "stream",
     "text": [
      "'0\\x82\\x04\\xa3\\x02\\x01\\x00\\x02\\x82\\x01\\x01\\x00\\xd0l\\xb9-\\xa8A@\\x0c\"\\x19J\\xcfd\\xba\\xc1P\\x81\\x19\\x02Y\\xec:@\\x9d\\xec\\t~\\xc0\\x9c\\x1a<XL//\\xa7\\x81\\xad.l\\xcb\\x94\\x06\\x8e\\x0f\\xf44/\\xefoc\\xa6$g\\xbb\\xa45I\\xc3\\xb7=\\xc4W\\xe4S]\\x10\\xacU\\xf5\\xf2\\xceYBi\\xe4\\xc2\\x0c\\xcf\\x99:\\xb2ry\\xfaA\\x0c\\xa2\\xe3W\\x8f\\xfb\\xa6P\\xdf\\xaa\\x1c|\\xaf\\x81\\xb0\\xd5\\x13\\x0e\\xd1\\xae\\x84\\xcd\\x98\\xba\\xa7Z\\xcd\\x80\\x97\\x94]\\xd0\\xd01\\xa7\\x89K\\xa1\\x87UQ\\xc9W\\xaeS\\x86c\\xb2\\xdd\\x92\\xae\\x16\\x02\\x07e%\\x94:>&rz\\x8c\\xfa`\\xd7\\xa8D\\xd9\\x91\\x87\\x84F(9\\xb3\\xa1!\\n\\xaa\\xc0\\x14\\x96\\x8c\\xc4\\x83{\\x1e\\x0bQ\\x1bSD\\xedc\\xda\\xf7;Om\\x10g\\xa0A@\\x11#\\x15\\xd5\\xde\\xaaV\\x8c\\\\Z\\x91\\xac~_<\\xe5w\\x0b\\xa8!c\\x0e\\xef\\x1f\\x11\\xa8\\x7fW\\xdd\\x8f\\xa4\\xb5\\xc2\\xce\\xc6#\\xe1*a\\xaaq\\x1d\\xe47#\\x1c\\x01\\x16\\xadt\\x88\\xddWF\\xf7\\x8c\\x07\\x87\\xeb\\xca\\x1f\\r\\\\W\\xa1\\x02\\x03\\x01\\x00\\x01\\x02\\x82\\x01\\x00]#\\xe9\\x10\\xed:\\xd3\\x8bX\\x85\\xa2\\xf7\\xd1T\\xdf\\xe4\\xc0\\xfcS\\x1f\\xaa@Q\\xf6\\x00\\xb01\\x93\\x93n\\xe9\\xfe\\xaft\\xfa\\xbf\\xc9d\\x81\\xf5\\x9ex5\\x01\\xb1Ay<\\xde\\xac\\x11\\x85\\x02\\x89\\xd4\\xc1\\xca\\n\\x7f\\xca\\xd8pp\\xb2\\x99Jb\\x94\\x11\\n\\x0b\\n\\x89\\xba\\xf3%\\x86NAK\\x81~\\x93G\\xcd<\\xda\\x8f\\xc46\\xb2\"L-\\xa1\\xf6\\x1c*\\xe0\\'}\\xc5\\x8aq\\xb9\\xe4Zv\\xa2D\\xefZ\\xd5\\xb1\\x1c\\x8b\\xf1\\xec\\xc9\\xcd\\x16\\xc8u\"\\xe7\\x1e\\x8a\\xa07\\xe6\\xd5RG\\xbf\\xa42\\xb6\\x89\\x80\\x9fZ\\xb9\\x13QA\\xb1\\xf6\\xefr\\xf3\\x9e\\xd5N\\xcc\\x0bw\\xdf\\xd5\\xdd\\xdf\\xc8\\xb3\\xb1\\x0e\\xc2\\xbd\\x81\\x11\\x01\\x01\\x9am<(\\xe8\\x11\\x02\\x9c1_\\x85e\\xcfk\\x14m\\xe4\\x97\\tY\\xc2Ma,X*(\\x0c\\x988x\\xa0e\\xd2o\\xe9\\x99z\\xea#qv\\x1ch|\\xf2\\x01:\\x00\\x8d\\x9e\\xb1\\xda\\x15\\xd4V<h\\xec\\x93\\n\\xfa\\x0b\\xe1&\\xf9N\\xa5\\x8d\\xad\\x8c\\xc3H\\x91\\x18u?\\xb8\\x0b\\xac\\x14\\x8f\\xf1w1\\x8d\\x02\\x81\\x81\\x00\\xedH\\x8a\\xfc\\xaa\\x8a\\x1a\\xb3\\x01\\x10\\xf4\\x7f\\x16NJ\\xf9r\"\\xd4\\xe2\\xee\\x96~\\x1av\\xeb\\xe3:\\xa0s\\xef\\xe7\\xb6\\xdb$\\x8e\\xea7\\xaf\\x19\\xde_\\x9cn\\xd2\\xf1J\\xa8\\xf4m\\xca)\\xd5_\\xb1\\xbd\\x08\\xd68?\\xbfrCO\\x9b\\x86\\x84\\x9a\\x82\\x0c?v\\xb4\\xa1\\x00\\x11\\xb4\\x97\\x91\\xf6\\xe6\\xa8\\xb3\\xae.\\xb9\\xd7>\\xd6\\ns\\xf6\\x0e\\xf0\\xfa\\xc3\\xbe\\x92\\x1c\\xbd\\xc8\\x01]c_\\xbd\\x82\\xc1\"Z\\xaa\\x9b\\xb5T6{t@\\x06\\x8a%\\xaf^\\x0fq\\xcd\\xb6\\xdb\\x02\\x81\\x81\\x00\\xe0\\xddp#q{\\xa9~\\xca\\xc3\\x85\\x03\\xf9G\\x8edc\\xf7\\x95\\x15e$\\xec\\xf3\\x01\\x8e\\x93\\xe5\\xeb\\xe6_\\xa0\\x1f\\xef\\xa9K\\x82d\\x15\\xf7Q\\x8a\\xc5\\r\\xee\\x0e\\xfa}\\x11\\xea\\x81}\\x00%\\xcbF\\xc5nho\\xc8e\\x80\\xc5s;\\x01\\xbcJ\\xfcZ\\x93\\x86\\xef\\xc9iM\\xb8\\x14\\xc2\\xe7J\\x96|\\xd2\\x06]5iFn\\xef:I\\xde\\x81a_P\\xe0f\\xcak\\xefe\\x1f\\x1e_~\\xfc\\xdc\\x1e\\xcd^ \\x15\\xdd\\x19(b\\xce\\xb3\\xf6\\x8b\\xb2\\x1d\\xde3\\x02\\x81\\x809\\xb7L\\x7fZ\\xe8\\x0e\\xc8}\\xb8\\xe7\\x0f\\xc6\\x982\\xaal5\\xc6\\xbc\\x9060\\xe45\\n\\xf9\\x91x\\x17\\xdbA\\xec{op\\x07\\xce\\x95\\x9b\\xe087o\\xc9\\x85\\x81\\x98\\x89#\\xefi\\xaf\\x8a\\x00L\\xaf\\xca\\x93\\x92\\x05\\xfa@\\x1f,\\x00S^\\xd5\\xc5.\\xe6\\xab\\xd7\\x01\\x92L\\xf0\\x15D\\x0e$\\xf8\\xd7\\xa4k\\xf5\\xccE\\xf9\\xf2\\xec\\xe6\\x03}\\xab\\x81>?\\x19v}\\xc6~vz=D\\xc7\\x1bp\\xa6A<\\x03\\xa8\\x91\\xc5E\\x11\\xf3J\\xad\\xc1i\\xf8\\x14\\xc3\\x02\\x81\\x81\\x00\\xbe6\\xd3;H.\\x01l\\xfd\\xfcr\\xb2\\xaf\\xd5\\xf5\\xff\\xba\\x08\\x9f\\x16 \\x1f\"IU\\xd1\\xd4\\x0e4\\x85\\x05\\xf3\\x1f\\xd0\\xcd\\xf6\\xcf\\xef\\xf6\\x1c\\xe5\\xdfk]\\xa39\\x0col\\x0eaF\\xea/\\x0eKi\\x8bA\\xd0\\xfdE\\xcf\\xae7\\x11} X\\x96+\\xd0\\x8b\\xde\\x9f\\x13\\xf2\\xe8z\\xb7|\\x8b\\xbd\\xcd\\x0c\\xa4\\xd1\\x87\\xf2\\xeb\\xdf\\xbf\\x82!&\\x95oV\\xff\\xc53n\\x9b\\xeb@1\\x18\\xb2Skv\\x90\\x9f\\xcc\\xb5{\\x892T\\xd5pa\\x0fw\\x90No\\xbd\\x02\\x81\\x80\\x7fQ\\x17\\xd3\\xb2d\\xef~{c\\xbf\\xa5\\xfe\\xf0x\\t\\xdd \\xfaN2E\\xa7C3\\xbbB\\xad\\xd6\\'e\\xc7p\\x84Z\\n\\xb4 \\xbd\\xcb\\xf0\\xa1\\x06\\x01\\xd1\\x91\\xac\\x8c\\x8b2Q`-\\xb5\\xf2\\x8b\\xbd\\x9a\\xe3\\xf7\\xa9\\x82\\xc3Y\\xdf\\x92\\xaa\\xdc`\\xec\\xb9CE\\xaf\\xa6\\xf1\\xd6\\xf4H\\x8e4k@\\x0coG\\xc6)|\\xf2\\xe0\\x0cC\\xd4Bk\\x04\\xbb|\\xad\\xd6\\x83\\xae\\xaa\\x06\\x17\\xf5pi\\xd8\\xe1\\xb3\\x15\\x0c\\x8c#\\xc6\\x0eh\\x95\\xfa\\xe7*l\\x94}\\xfc\\xd1'\n"
     ]
    }
   ],
   "source": [
    "keystr = open('../raw_data/pki/ca_key.der', 'r').read()\n",
    "print repr(keystr)\n",
    "# (btw, you can hide the output of a cell by double-clicking on the left of the output)"
   ]
  },
  {
   "cell_type": "code",
   "execution_count": 6,
   "metadata": {
    "collapsed": false
   },
   "outputs": [
    {
     "name": "stdout",
     "output_type": "stream",
     "text": [
      "###[ RSAPrivateKey ]### \n",
      "  version   = 'two-prime' 0x0 <ASN1_INTEGER[0]>\n",
      "  modulus   = 0xd06cb92da8...1f0d5c57a1 <ASN1_INTEGER[2631118091...854360993L]>\n",
      "  publicExponent= 0x10001 <ASN1_INTEGER[65537]>\n",
      "  privateExponent= 0x5d23e910ed...8ff177318d <ASN1_INTEGER[1175787044...405953421L]>\n",
      "  prime1    = 0xed488afcaa...0f71cdb6db <ASN1_INTEGER[1666260494...636034267L]>\n",
      "  prime2    = 0xe0dd702371...8bb21dde33 <ASN1_INTEGER[1579055675...088201779L]>\n",
      "  exponent1 = 0x39b74c7f5a...c169f814c3 <ASN1_INTEGER[4052956123...014038211L]>\n",
      "  exponent2 = 0xbe36d33b48...77904e6fbd <ASN1_INTEGER[1335729260...845670845L]>\n",
      "  coefficient= 0x7f5117d3b2...6c947dfcd1 <ASN1_INTEGER[8940487619...133849297L]>\n",
      "  otherPrimeInfos= None\n",
      "\n"
     ]
    }
   ],
   "source": [
    "privkey = RSAPrivateKey(keystr)\n",
    "privkey.show()"
   ]
  },
  {
   "cell_type": "code",
   "execution_count": 7,
   "metadata": {
    "collapsed": false
   },
   "outputs": [
    {
     "name": "stdout",
     "output_type": "stream",
     "text": [
      "The 'version' stripped from any ASN.1 encoding is 0x00.\n",
      "The 'version' field correspond to bytes  '\\x02\\x01\\x00'.\n"
     ]
    }
   ],
   "source": [
    "v = privkey.version\n",
    "print 'The \\'version\\' stripped from any ASN.1 encoding is 0x%02x.' % v.val\n",
    "print 'The \\'version\\' field correspond to bytes  %r.' % str(v)"
   ]
  },
  {
   "cell_type": "code",
   "execution_count": 8,
   "metadata": {
    "collapsed": false
   },
   "outputs": [
    {
     "name": "stdout",
     "output_type": "stream",
     "text": [
      "###[ RSAPrivateKey ]### \n",
      "  version   = 'multi' 0x1 <ASN1_INTEGER[1]>\n",
      "  modulus   = 0x1a0d9725b5...3e1ab8af42 <ASN1_INTEGER[5262236183...708721986L]>\n",
      "  publicExponent= 0x10001 <ASN1_INTEGER[65537]>\n",
      "  privateExponent= 0x5d23e910ed...8ff177318d <ASN1_INTEGER[1175787044...405953421L]>\n",
      "  prime1    = 0xed488afcaa...0f71cdb6db <ASN1_INTEGER[1666260494...636034267L]>\n",
      "  prime2    = 0xe0dd702371...8bb21dde33 <ASN1_INTEGER[1579055675...088201779L]>\n",
      "  exponent1 = 0x39b74c7f5a...c169f814c3 <ASN1_INTEGER[4052956123...014038211L]>\n",
      "  exponent2 = 0xbe36d33b48...77904e6fbd <ASN1_INTEGER[1335729260...845670845L]>\n",
      "  coefficient= 0x7f5117d3b2...6c947dfcd1 <ASN1_INTEGER[8940487619...133849297L]>\n",
      "  otherPrimeInfos= None\n",
      "\n"
     ]
    }
   ],
   "source": [
    "privkey.version = ASN1_INTEGER(1)\n",
    "privkey.modulus.val *= 2\n",
    "privkey.show()"
   ]
  },
  {
   "cell_type": "code",
   "execution_count": 9,
   "metadata": {
    "collapsed": false
   },
   "outputs": [
    {
     "name": "stdout",
     "output_type": "stream",
     "text": [
      "Original data: '0\\x82\\x04\\xa3\\x02\\x01\\x00\\x02\\x82\\x01\\x01\\x00\\xd0'...\n",
      "New version bytes:          '\\x02\\x01\\x01'\n",
      "New modulus bytes:                      '\\x02\\x82\\x01\\x01\\x01\\xa0'...\n",
      "Rebuilt data:  '0\\x82\\x04\\xa3\\x02\\x01\\x01\\x02\\x82\\x01\\x01\\x01\\xa0'...\n"
     ]
    }
   ],
   "source": [
    "print 'Original data: %r...' % keystr[:13]\n",
    "print 'New version bytes:          %r' % str(privkey.version)\n",
    "print 'New modulus bytes:                      %r...' % str(privkey.modulus)[:6]\n",
    "print 'Rebuilt data:  %r...' % str(privkey)[:13]"
   ]
  },
  {
   "cell_type": "markdown",
   "metadata": {
    "collapsed": true
   },
   "source": [
    "## X.509 certificate features"
   ]
  },
  {
   "cell_type": "code",
   "execution_count": 10,
   "metadata": {
    "collapsed": false
   },
   "outputs": [
    {
     "name": "stdout",
     "output_type": "stream",
     "text": [
      "###[ X509_Cert ]### \n",
      "  \\tbsCertificate\\\n",
      "   |###[ X509_TBSCertificate ]### \n",
      "   |  version   = 'v3' 0x2 <ASN1_INTEGER[2]>\n",
      "   |  serialNumber= 0xba5afb56e3aa999e <ASN1_INTEGER[1342832158...563922846L]>\n",
      "   |  \\signature \\\n",
      "   |   |###[ X509_AlgorithmIdentifier ]### \n",
      "   |   |  algorithm = <ASN1_OID['sha256WithRSAEncryption']>\n",
      "   |   |  parameters= <ASN1_NULL[0]>\n",
      "   |  \\issuer    \\\n",
      "   |   |###[ X509_RDN ]### \n",
      "   |   |  \\rdn       \\\n",
      "   |   |   |###[ X509_AttributeTypeAndValue ]### \n",
      "   |   |   |  type      = <ASN1_OID['countryName']>\n",
      "   |   |   |  value     = <ASN1_PRINTABLE_STRING['MN']>\n",
      "   |   |###[ X509_RDN ]### \n",
      "   |   |  \\rdn       \\\n",
      "   |   |   |###[ X509_AttributeTypeAndValue ]### \n",
      "   |   |   |  type      = <ASN1_OID['localityName']>\n",
      "   |   |   |  value     = <ASN1_UTF8_STRING['Ulaanbaatar']>\n",
      "   |   |###[ X509_RDN ]### \n",
      "   |   |  \\rdn       \\\n",
      "   |   |   |###[ X509_AttributeTypeAndValue ]### \n",
      "   |   |   |  type      = <ASN1_OID['organizationUnitName']>\n",
      "   |   |   |  value     = <ASN1_UTF8_STRING['Scapy Test PKI']>\n",
      "   |   |###[ X509_RDN ]### \n",
      "   |   |  \\rdn       \\\n",
      "   |   |   |###[ X509_AttributeTypeAndValue ]### \n",
      "   |   |   |  type      = <ASN1_OID['commonName']>\n",
      "   |   |   |  value     = <ASN1_UTF8_STRING['Scapy Test CA']>\n",
      "   |  \\validity  \\\n",
      "   |   |###[ X509_Validity ]### \n",
      "   |   |  not_before= Sep 16 10:26:45 2016 GMT <ASN1_UTC_TIME['160916102645Z']>\n",
      "   |   |  not_after = Sep 16 10:26:45 2026 GMT <ASN1_UTC_TIME['260916102645Z']>\n",
      "   |  \\subject   \\\n",
      "   |   |###[ X509_RDN ]### \n",
      "   |   |  \\rdn       \\\n",
      "   |   |   |###[ X509_AttributeTypeAndValue ]### \n",
      "   |   |   |  type      = <ASN1_OID['countryName']>\n",
      "   |   |   |  value     = <ASN1_PRINTABLE_STRING['MN']>\n",
      "   |   |###[ X509_RDN ]### \n",
      "   |   |  \\rdn       \\\n",
      "   |   |   |###[ X509_AttributeTypeAndValue ]### \n",
      "   |   |   |  type      = <ASN1_OID['localityName']>\n",
      "   |   |   |  value     = <ASN1_UTF8_STRING['Ulaanbaatar']>\n",
      "   |   |###[ X509_RDN ]### \n",
      "   |   |  \\rdn       \\\n",
      "   |   |   |###[ X509_AttributeTypeAndValue ]### \n",
      "   |   |   |  type      = <ASN1_OID['organizationUnitName']>\n",
      "   |   |   |  value     = <ASN1_UTF8_STRING['Scapy Test PKI']>\n",
      "   |   |###[ X509_RDN ]### \n",
      "   |   |  \\rdn       \\\n",
      "   |   |   |###[ X509_AttributeTypeAndValue ]### \n",
      "   |   |   |  type      = <ASN1_OID['commonName']>\n",
      "   |   |   |  value     = <ASN1_UTF8_STRING['Scapy Test CA']>\n",
      "   |  \\subjectPublicKeyInfo\\\n",
      "   |   |###[ X509_SubjectPublicKeyInfo ]### \n",
      "   |   |  \\signatureAlgorithm\\\n",
      "   |   |   |###[ X509_AlgorithmIdentifier ]### \n",
      "   |   |   |  algorithm = <ASN1_OID['rsaEncryption']>\n",
      "   |   |   |  parameters= <ASN1_NULL[0]>\n",
      "   |   |  \\subjectPublicKey\\\n",
      "   |   |   |###[ RSAPublicKey ]### \n",
      "   |   |   |  modulus   = 0xd06cb92da8...1f0d5c57a1 <ASN1_INTEGER[2631118091...854360993L]>\n",
      "   |   |   |  publicExponent= 0x10001 <ASN1_INTEGER[65537]>\n",
      "   |  issuerUniqueID= None\n",
      "   |  subjectUniqueID= None\n",
      "   |  \\extensions\\\n",
      "   |   |###[ X509_Extension ]### \n",
      "   |   |  extnID    = <ASN1_OID['subjectKeyIdentifier']>\n",
      "   |   |  critical  = None\n",
      "   |   |  \\extnValue \\\n",
      "   |   |   |###[ X509_ExtSubjectKeyIdentifier ]### \n",
      "   |   |   |  keyIdentifier= <ASN1_STRING['fS\\x94\\xf4\\x15\\xd1\\xbdgh\\xb0Q725\\xe1\\xa4\\xaa\\xde\\x07|']>\n",
      "   |   |###[ X509_Extension ]### \n",
      "   |   |  extnID    = <ASN1_OID['authorityKeyIdentifier']>\n",
      "   |   |  critical  = None\n",
      "   |   |  \\extnValue \\\n",
      "   |   |   |###[ X509_ExtAuthorityKeyIdentifier ]### \n",
      "   |   |   |  keyIdentifier= <ASN1_STRING['fS\\x94\\xf4\\x15\\xd1\\xbdgh\\xb0Q725\\xe1\\xa4\\xaa\\xde\\x07|']>\n",
      "   |   |   |  authorityCertIssuer= None\n",
      "   |   |   |  authorityCertSerialNumber= None\n",
      "   |   |###[ X509_Extension ]### \n",
      "   |   |  extnID    = <ASN1_OID['basicConstraints']>\n",
      "   |   |  critical  = None\n",
      "   |   |  \\extnValue \\\n",
      "   |   |   |###[ X509_ExtBasicConstraints ]### \n",
      "   |   |   |  cA        = True <ASN1_BOOLEAN[-1]>\n",
      "   |   |   |  pathLenConstraint= None\n",
      "   |   |###[ X509_Extension ]### \n",
      "   |   |  extnID    = <ASN1_OID['keyUsage']>\n",
      "   |   |  critical  = None\n",
      "   |   |  \\extnValue \\\n",
      "   |   |   |###[ X509_ExtKeyUsage ]### \n",
      "   |   |   |  keyUsage  = keyCertSign <ASN1_BIT_STRING['000001'] (2 unused bits)>\n",
      "  \\signatureAlgorithm\\\n",
      "   |###[ X509_AlgorithmIdentifier ]### \n",
      "   |  algorithm = <ASN1_OID['sha256WithRSAEncryption']>\n",
      "   |  parameters= <ASN1_NULL[0]>\n",
      "  signatureValue= <ASN1_BIT_STRING['\\x93g\\x86)O\\xbd%\\xe3\\x18T...\\xdd\\xcd\\x81\\xd9\\xc3\\xe0\\xa6\\x07aQ'] (0 unused bit)>\n",
      "\n"
     ]
    }
   ],
   "source": [
    "# Let's reload the original key, then let's load a certificate associated with it\n",
    "privkey = RSAPrivateKey(keystr)\n",
    "cert = X509_Cert(open('../raw_data/pki/ca_cert.der', 'r').read())\n",
    "cert.show()"
   ]
  },
  {
   "cell_type": "code",
   "execution_count": 11,
   "metadata": {
    "collapsed": false
   },
   "outputs": [
    {
     "name": "stdout",
     "output_type": "stream",
     "text": [
      "###[ RSAPublicKey ]### \n",
      "  modulus   = 0xd06cb92da8...1f0d5c57a1 <ASN1_INTEGER[2631118091...854360993L]>\n",
      "  publicExponent= 0x10001 <ASN1_INTEGER[65537]>\n",
      "\n",
      "###[ X509_AttributeTypeAndValue ]### \n",
      "  type      = <ASN1_OID['commonName']>\n",
      "  value     = <ASN1_UTF8_STRING['Scapy Test CA']>\n",
      "\n"
     ]
    }
   ],
   "source": [
    "cert.tbsCertificate.subjectPublicKeyInfo.subjectPublicKey.show()\n",
    "cert.tbsCertificate.subject[-1].rdn[0].show()"
   ]
  },
  {
   "cell_type": "code",
   "execution_count": 12,
   "metadata": {
    "collapsed": false,
    "scrolled": true
   },
   "outputs": [
    {
     "data": {
      "text/plain": [
       "True"
      ]
     },
     "execution_count": 12,
     "metadata": {},
     "output_type": "execute_result"
    }
   ],
   "source": [
    "cert.tbsCertificate.subjectPublicKeyInfo.subjectPublicKey.modulus == privkey.modulus"
   ]
  },
  {
   "cell_type": "code",
   "execution_count": 13,
   "metadata": {
    "collapsed": false
   },
   "outputs": [
    {
     "name": "stdout",
     "output_type": "stream",
     "text": [
      "###[ X509_Extension ]### \n",
      "  extnID    = <ASN1_OID['basicConstraints']>\n",
      "  critical  = None\n",
      "  \\extnValue \\\n",
      "   |###[ X509_ExtBasicConstraints ]### \n",
      "   |  cA        = True <ASN1_BOOLEAN[-1]>\n",
      "   |  pathLenConstraint= None\n",
      "\n"
     ]
    }
   ],
   "source": [
    "cert.tbsCertificate.extensions[2].show()"
   ]
  },
  {
   "cell_type": "code",
   "execution_count": 14,
   "metadata": {
    "collapsed": false
   },
   "outputs": [
    {
     "data": {
      "text/plain": [
       "<ASN1_OID['sha256WithRSAEncryption']>"
      ]
     },
     "execution_count": 14,
     "metadata": {},
     "output_type": "execute_result"
    }
   ],
   "source": [
    "cert.signatureAlgorithm.algorithm"
   ]
  },
  {
   "cell_type": "markdown",
   "metadata": {},
   "source": [
    "## Scapy crypto tools"
   ]
  },
  {
   "cell_type": "code",
   "execution_count": 15,
   "metadata": {
    "collapsed": true
   },
   "outputs": [],
   "source": [
    "# Let's reload the key with Scapy's crypto-enhanced wrapper\n",
    "privkey = PrivKey('../raw_data/pki/ca_key.der')"
   ]
  },
  {
   "cell_type": "code",
   "execution_count": 16,
   "metadata": {
    "collapsed": false
   },
   "outputs": [
    {
     "data": {
      "text/plain": [
       "True"
      ]
     },
     "execution_count": 16,
     "metadata": {},
     "output_type": "execute_result"
    }
   ],
   "source": [
    "privkey.der == keystr"
   ]
  },
  {
   "cell_type": "code",
   "execution_count": 17,
   "metadata": {
    "collapsed": false
   },
   "outputs": [
    {
     "name": "stdout",
     "output_type": "stream",
     "text": [
      "<cryptography.hazmat.backends.openssl.rsa._RSAPrivateKey object at 0x7f173e1340d0>\n",
      "<cryptography.hazmat.backends.openssl.rsa._RSAPublicKey object at 0x7f173e134c90>\n"
     ]
    }
   ],
   "source": [
    "print privkey.key\n",
    "print privkey.pubkey"
   ]
  },
  {
   "cell_type": "code",
   "execution_count": 18,
   "metadata": {
    "collapsed": false
   },
   "outputs": [
    {
     "data": {
      "text/plain": [
       "'\\x93g\\x86)O\\xbd%\\xe3\\x18T\\x946\\x9eW\\x1b\\xcdb\\xe3\\x89H\\xc2\\xab\\x18qi{r\\xe3c\\x15/-\\xa9\\xc8\\x8coT<.\\xbe\\xfa\\xf3\\xe0\\x8f\\x15\\x89_\\xdc\\xe8\\xf0_\\x8d\\xd2\\t\\xee\\xb6\\xd6\\x82\\xadE\\x95t;v\\xe2\\xcd&]\\xe7\\x1b\\x82\\x00K\\x02{X\\xe4\\x93\\x87{7\\x195\\xdf\\xf0\\x01\\xdb>\\x98*\\xf5\\x9e\\xb9\\xdf\\xef,\\x04)`\\x8c3W\\xfa\\x84\\xc4\\x03\\xaf\\xf9\\x92\\xc0\\x8f\\x8e\\xad\\xe9/\\xc4\\x87\\xf0?\\x90\\xd1\\x17\\xa8\\x119{\\xec\\xb2\\xb15\\x157?\\xa6\\xa0\\x8e\\xcf\\xf1,=\\xd7%\\xee\\x88\\xf3\\x12X\\x9e+\\x95\\xaf\\xa7\\x99\\xf1Vh\\xa4\\xcf\\xf6\\xf8\\xc4\\x98A\\xedk\\xe2\\xc0\\xf1U\"GgDx\\xb7\\x11\\x9dP\\xa0T\\x974\\xf8\\x04\\xba\\x121\\xba\\xeb`\\n\\xc8\\xd6\\x0f\\xe0\\x07&Q\\xa1o\\x04\\xa4b&\\x91 g\\x03f\\x98\\xe7\\xa7>3@l\\xdcs\\x12N\\xdb$\\xc1\\xbc\\x19I\\xb0`\\x9f\\\\c9\\xc1\\x14\\x13\\xb3\\x00\\x93r2A\\xbc\\xc1)\\x8c`\\xdd\\xcd\\x81\\xd9\\xc3\\xe0\\xa6\\x07aQ'"
      ]
     },
     "execution_count": 18,
     "metadata": {},
     "output_type": "execute_result"
    }
   ],
   "source": [
    "# We can compute the RSA signature over the part of the certificate which is to be signed\n",
    "privkey.sign(str(cert.tbsCertificate))"
   ]
  },
  {
   "cell_type": "code",
   "execution_count": 19,
   "metadata": {
    "collapsed": false
   },
   "outputs": [
    {
     "data": {
      "text/plain": [
       "<ASN1_BIT_STRING['\\x93g\\x86)O\\xbd%\\xe3\\x18T...\\xdd\\xcd\\x81\\xd9\\xc3\\xe0\\xa6\\x07aQ'] (0 unused bit)>"
      ]
     },
     "execution_count": 19,
     "metadata": {},
     "output_type": "execute_result"
    }
   ],
   "source": [
    "cert.signatureValue"
   ]
  },
  {
   "cell_type": "code",
   "execution_count": 20,
   "metadata": {
    "collapsed": false
   },
   "outputs": [
    {
     "name": "stdout",
     "output_type": "stream",
     "text": [
      "###[ X509_Cert ]### \n",
      "  \\tbsCertificate\\\n",
      "   |###[ X509_TBSCertificate ]### \n",
      "   |  version   = 'v3' 0x2 <ASN1_INTEGER[2]>\n",
      "   |  serialNumber= 0xdeadcafe <ASN1_INTEGER[3735931646]>\n",
      "   |  \\signature \\\n",
      "   |   |###[ X509_AlgorithmIdentifier ]### \n",
      "   |   |  algorithm = <ASN1_OID['sha256WithRSAEncryption']>\n",
      "   |   |  parameters= <ASN1_NULL[0]>\n",
      "   |  \\issuer    \\\n",
      "   |   |###[ X509_RDN ]### \n",
      "   |   |  \\rdn       \\\n",
      "   |   |   |###[ X509_AttributeTypeAndValue ]### \n",
      "   |   |   |  type      = <ASN1_OID['countryName']>\n",
      "   |   |   |  value     = <ASN1_PRINTABLE_STRING['MN']>\n",
      "   |   |###[ X509_RDN ]### \n",
      "   |   |  \\rdn       \\\n",
      "   |   |   |###[ X509_AttributeTypeAndValue ]### \n",
      "   |   |   |  type      = <ASN1_OID['localityName']>\n",
      "   |   |   |  value     = <ASN1_UTF8_STRING['Ulaanbaatar']>\n",
      "   |   |###[ X509_RDN ]### \n",
      "   |   |  \\rdn       \\\n",
      "   |   |   |###[ X509_AttributeTypeAndValue ]### \n",
      "   |   |   |  type      = <ASN1_OID['organizationUnitName']>\n",
      "   |   |   |  value     = <ASN1_UTF8_STRING['Scapy Test PKI']>\n",
      "   |   |###[ X509_RDN ]### \n",
      "   |   |  \\rdn       \\\n",
      "   |   |   |###[ X509_AttributeTypeAndValue ]### \n",
      "   |   |   |  type      = <ASN1_OID['commonName']>\n",
      "   |   |   |  value     = <ASN1_UTF8_STRING['Scapy Test CA']>\n",
      "   |  \\validity  \\\n",
      "   |   |###[ X509_Validity ]### \n",
      "   |   |  not_before= Sep 16 10:26:45 2016 GMT <ASN1_UTC_TIME['160916102645Z']>\n",
      "   |   |  not_after = Sep 16 10:26:45 2026 GMT <ASN1_UTC_TIME['260916102645Z']>\n",
      "   |  \\subject   \\\n",
      "   |   |###[ X509_RDN ]### \n",
      "   |   |  \\rdn       \\\n",
      "   |   |   |###[ X509_AttributeTypeAndValue ]### \n",
      "   |   |   |  type      = <ASN1_OID['countryName']>\n",
      "   |   |   |  value     = <ASN1_PRINTABLE_STRING['MN']>\n",
      "   |   |###[ X509_RDN ]### \n",
      "   |   |  \\rdn       \\\n",
      "   |   |   |###[ X509_AttributeTypeAndValue ]### \n",
      "   |   |   |  type      = <ASN1_OID['localityName']>\n",
      "   |   |   |  value     = <ASN1_UTF8_STRING['Ulaanbaatar']>\n",
      "   |   |###[ X509_RDN ]### \n",
      "   |   |  \\rdn       \\\n",
      "   |   |   |###[ X509_AttributeTypeAndValue ]### \n",
      "   |   |   |  type      = <ASN1_OID['organizationUnitName']>\n",
      "   |   |   |  value     = <ASN1_UTF8_STRING['Scapy Test PKI']>\n",
      "   |   |###[ X509_RDN ]### \n",
      "   |   |  \\rdn       \\\n",
      "   |   |   |###[ X509_AttributeTypeAndValue ]### \n",
      "   |   |   |  type      = <ASN1_OID['commonName']>\n",
      "   |   |   |  value     = <ASN1_UTF8_STRING['my new deadcafe CA']>\n",
      "   |  \\subjectPublicKeyInfo\\\n",
      "   |   |###[ X509_SubjectPublicKeyInfo ]### \n",
      "   |   |  \\signatureAlgorithm\\\n",
      "   |   |   |###[ X509_AlgorithmIdentifier ]### \n",
      "   |   |   |  algorithm = <ASN1_OID['rsaEncryption']>\n",
      "   |   |   |  parameters= <ASN1_NULL[0]>\n",
      "   |   |  \\subjectPublicKey\\\n",
      "   |   |   |###[ RSAPublicKey ]### \n",
      "   |   |   |  modulus   = 0xd06cb92da8...1f0d5c57a1 <ASN1_INTEGER[2631118091...854360993L]>\n",
      "   |   |   |  publicExponent= 0x10001 <ASN1_INTEGER[65537]>\n",
      "   |  issuerUniqueID= None\n",
      "   |  subjectUniqueID= None\n",
      "   |  \\extensions\\\n",
      "   |   |###[ X509_Extension ]### \n",
      "   |   |  extnID    = <ASN1_OID['subjectKeyIdentifier']>\n",
      "   |   |  critical  = None\n",
      "   |   |  \\extnValue \\\n",
      "   |   |   |###[ X509_ExtSubjectKeyIdentifier ]### \n",
      "   |   |   |  keyIdentifier= <ASN1_STRING['fS\\x94\\xf4\\x15\\xd1\\xbdgh\\xb0Q725\\xe1\\xa4\\xaa\\xde\\x07|']>\n",
      "   |   |###[ X509_Extension ]### \n",
      "   |   |  extnID    = <ASN1_OID['authorityKeyIdentifier']>\n",
      "   |   |  critical  = None\n",
      "   |   |  \\extnValue \\\n",
      "   |   |   |###[ X509_ExtAuthorityKeyIdentifier ]### \n",
      "   |   |   |  keyIdentifier= <ASN1_STRING['fS\\x94\\xf4\\x15\\xd1\\xbdgh\\xb0Q725\\xe1\\xa4\\xaa\\xde\\x07|']>\n",
      "   |   |   |  authorityCertIssuer= None\n",
      "   |   |   |  authorityCertSerialNumber= None\n",
      "   |   |###[ X509_Extension ]### \n",
      "   |   |  extnID    = <ASN1_OID['basicConstraints']>\n",
      "   |   |  critical  = None\n",
      "   |   |  \\extnValue \\\n",
      "   |   |   |###[ X509_ExtBasicConstraints ]### \n",
      "   |   |   |  cA        = True <ASN1_BOOLEAN[-1]>\n",
      "   |   |   |  pathLenConstraint= None\n",
      "   |   |###[ X509_Extension ]### \n",
      "   |   |  extnID    = <ASN1_OID['keyUsage']>\n",
      "   |   |  critical  = None\n",
      "   |   |  \\extnValue \\\n",
      "   |   |   |###[ X509_ExtKeyUsage ]### \n",
      "   |   |   |  keyUsage  = keyCertSign <ASN1_BIT_STRING['000001'] (2 unused bits)>\n",
      "  \\signatureAlgorithm\\\n",
      "   |###[ X509_AlgorithmIdentifier ]### \n",
      "   |  algorithm = <ASN1_OID['sha256WithRSAEncryption']>\n",
      "   |  parameters= <ASN1_NULL[0]>\n",
      "  signatureValue= <ASN1_BIT_STRING['\\x81\\xf5\\xdf>\\x17\\xa7B\\xdd_\\xce...<\\x1dX\\xee\\xfe\\x18)\\xdbd:'] (0 unused bit)>\n",
      "\n"
     ]
    }
   ],
   "source": [
    "# We can quickly modify a certificate field and update the signature accordingly\n",
    "cert.tbsCertificate.serialNumber.val = 0xdeadcafe\n",
    "cert.tbsCertificate.subject[-1].rdn[0].value.val = 'my new deadcafe CA'    \n",
    "cert2 = privkey.resignCert(cert)\n",
    "cert2.show()"
   ]
  }
 ],
 "metadata": {
  "kernelspec": {
   "display_name": "Python 2",
   "language": "python",
   "name": "python2"
  },
  "language_info": {
   "codemirror_mode": {
    "name": "ipython",
    "version": 2
   },
   "file_extension": ".py",
   "mimetype": "text/x-python",
   "name": "python",
   "nbconvert_exporter": "python",
   "pygments_lexer": "ipython2",
   "version": "2.7.13"
  }
 },
 "nbformat": 4,
 "nbformat_minor": 2
}
