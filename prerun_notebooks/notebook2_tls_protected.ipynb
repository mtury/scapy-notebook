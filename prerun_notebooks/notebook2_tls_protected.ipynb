{
 "cells": [
  {
   "cell_type": "markdown",
   "metadata": {},
   "source": [
    "# TLS handshake overview"
   ]
  },
  {
   "cell_type": "code",
   "execution_count": 1,
   "metadata": {
    "collapsed": true
   },
   "outputs": [],
   "source": [
    "# We're going to parse several successive records from the passive listening of a standard TLS handshake\n",
    "from scapy.all import *"
   ]
  },
  {
   "cell_type": "markdown",
   "metadata": {},
   "source": [
    "## (C) ---> (S) ClientHello"
   ]
  },
  {
   "cell_type": "code",
   "execution_count": 2,
   "metadata": {
    "collapsed": false
   },
   "outputs": [
    {
     "name": "stdout",
     "output_type": "stream",
     "text": [
      "###[ TLS ]### \n",
      "  type      = handshake\n",
      "  version   = TLS 1.0\n",
      "  len       = 213\n",
      "  iv        = ''\n",
      "  \\msg       \\\n",
      "   |###[ TLS Handshake - Client Hello ]### \n",
      "   |  msgtype   = client_hello\n",
      "   |  msglen    = 209\n",
      "   |  version   = TLS 1.2\n",
      "   |  gmt_unix_time= Fri, 24 Sep 1982 22:46:27 +0000 (401755587)\n",
      "   |  random_bytes= 7c19dbc33cb54a0b8d3581c5ce09203208d8ecd1f822429c57d01676\n",
      "   |  sidlen    = 0\n",
      "   |  sid       = ''\n",
      "   |  cipherslen= 22\n",
      "   |  ciphers   = [TLS_ECDHE_ECDSA_WITH_AES_128_GCM_SHA256, TLS_ECDHE_RSA_WITH_AES_128_GCM_SHA256, TLS_ECDHE_ECDSA_WITH_AES_256_CBC_SHA, TLS_ECDHE_ECDSA_WITH_AES_128_CBC_SHA, TLS_ECDHE_RSA_WITH_AES_128_CBC_SHA, TLS_ECDHE_RSA_WITH_AES_256_CBC_SHA, TLS_DHE_RSA_WITH_AES_128_CBC_SHA, TLS_DHE_RSA_WITH_AES_256_CBC_SHA, TLS_RSA_WITH_AES_128_CBC_SHA, TLS_RSA_WITH_AES_256_CBC_SHA, TLS_RSA_WITH_3DES_EDE_CBC_SHA]\n",
      "   |  complen   = 1\n",
      "   |  comp      = null\n",
      "   |  extlen    = 146\n",
      "   |  \\ext       \\\n",
      "   |   |###[ TLS Extension - Server Name ]### \n",
      "   |   |  type      = server_name\n",
      "   |   |  len       = 31\n",
      "   |   |  servernameslen= 29\n",
      "   |   |  servernames= [camo.githubusercontent.com]\n",
      "   |   |###[ TLS Extension - Renegotiation Indication ]### \n",
      "   |   |  type      = renegotiation_info\n",
      "   |   |  len       = 1\n",
      "   |   |  reneg_conn_len= 0\n",
      "   |   |  renegotiated_connection= ''\n",
      "   |   |###[ TLS Extension - Supported Groups ]### \n",
      "   |   |  type      = supported_groups\n",
      "   |   |  len       = 8\n",
      "   |   |  groupslen = 6\n",
      "   |   |  groups    = [secp256r1, secp384r1, secp521r1]\n",
      "   |   |###[ TLS Extension - Supported Point Format ]### \n",
      "   |   |  type      = ec_point_formats\n",
      "   |   |  len       = 2\n",
      "   |   |  ecpllen   = 1\n",
      "   |   |  ecpl      = [uncompressed]\n",
      "   |   |###[ TLS Extension - Session Ticket ]### \n",
      "   |   |  type      = session_ticket\n",
      "   |   |  len       = 0\n",
      "   |   |  ticket    = ''\n",
      "   |   |###[ TLS Extension - Next Protocol Negotiation ]### \n",
      "   |   |  type      = next_protocol_negotiation\n",
      "   |   |  len       = 0\n",
      "   |   |  protocols = []\n",
      "   |   |###[ TLS Extension - Application Layer Protocol Negotiation ]### \n",
      "   |   |  type      = alpn\n",
      "   |   |  len       = 41\n",
      "   |   |  protocolslen= 39\n",
      "   |   |  protocols = [h2-16, h2-15, h2-14, h2, spdy/3.1, http/1.1]\n",
      "   |   |###[ TLS Extension - Certificate Status Request ]### \n",
      "   |   |  type      = status_request\n",
      "   |   |  len       = 5\n",
      "   |   |  stype     = ocsp\n",
      "   |   |  \\req       \\\n",
      "   |   |   |###[ OCSPStatusRequest structure ]### \n",
      "   |   |   |  respidlen = 0\n",
      "   |   |   |  \\respid    \\\n",
      "   |   |   |  reqextlen = 0\n",
      "   |   |   |  reqext    = ''\n",
      "   |   |###[ TLS Extension - Signature Algorithms ]### \n",
      "   |   |  type      = signature_algorithms\n",
      "   |   |  len       = 22\n",
      "   |   |  sig_algs_len= 20\n",
      "   |   |  sig_algs  = [sha256+rsa, sha384+rsa, sha512+rsa, sha1+rsa, sha256+ecdsa, sha384+ecdsa, sha512+ecdsa, sha1+ecdsa, sha256+dsa, sha1+dsa]\n",
      "  mac       = ''\n",
      "  pad       = ''\n",
      "  padlen    = None\n",
      "\n"
     ]
    }
   ],
   "source": [
    "record1 = TLS(open('../raw_data/tls_session_protected/01_cli.raw').read())\n",
    "record1.show()"
   ]
  },
  {
   "cell_type": "code",
   "execution_count": 3,
   "metadata": {
    "collapsed": false
   },
   "outputs": [
    {
     "name": "stdout",
     "output_type": "stream",
     "text": [
      "\n",
      "###[ TLS Extension - Server Name ]### \n",
      "  type      = server_name\n",
      "  len       = 31\n",
      "  servernameslen= 29\n",
      "  servernames= [camo.githubusercontent.com]\n",
      "\n",
      "\n",
      "###[ TLS Extension - Renegotiation Indication ]### \n",
      "  type      = renegotiation_info\n",
      "  len       = 1\n",
      "  reneg_conn_len= 0\n",
      "  renegotiated_connection= ''\n",
      "\n",
      "\n",
      "###[ TLS Extension - Supported Groups ]### \n",
      "  type      = supported_groups\n",
      "  len       = 8\n",
      "  groupslen = 6\n",
      "  groups    = [secp256r1, secp384r1, secp521r1]\n",
      "\n",
      "\n",
      "###[ TLS Extension - Supported Point Format ]### \n",
      "  type      = ec_point_formats\n",
      "  len       = 2\n",
      "  ecpllen   = 1\n",
      "  ecpl      = [uncompressed]\n",
      "\n",
      "\n",
      "###[ TLS Extension - Session Ticket ]### \n",
      "  type      = session_ticket\n",
      "  len       = 0\n",
      "  ticket    = ''\n",
      "\n",
      "\n",
      "###[ TLS Extension - Next Protocol Negotiation ]### \n",
      "  type      = next_protocol_negotiation\n",
      "  len       = 0\n",
      "  protocols = []\n",
      "\n",
      "\n",
      "###[ TLS Extension - Application Layer Protocol Negotiation ]### \n",
      "  type      = alpn\n",
      "  len       = 41\n",
      "  protocolslen= 39\n",
      "  protocols = [h2-16, h2-15, h2-14, h2, spdy/3.1, http/1.1]\n",
      "\n",
      "\n",
      "###[ TLS Extension - Certificate Status Request ]### \n",
      "  type      = status_request\n",
      "  len       = 5\n",
      "  stype     = ocsp\n",
      "  \\req       \\\n",
      "   |###[ OCSPStatusRequest structure ]### \n",
      "   |  respidlen = 0\n",
      "   |  \\respid    \\\n",
      "   |  reqextlen = 0\n",
      "   |  reqext    = ''\n",
      "\n",
      "\n",
      "###[ TLS Extension - Signature Algorithms ]### \n",
      "  type      = signature_algorithms\n",
      "  len       = 22\n",
      "  sig_algs_len= 20\n",
      "  sig_algs  = [sha256+rsa, sha384+rsa, sha512+rsa, sha1+rsa, sha256+ecdsa, sha384+ecdsa, sha512+ecdsa, sha1+ecdsa, sha256+dsa, sha1+dsa]\n",
      "\n"
     ]
    }
   ],
   "source": [
    "for extension in record1.msg[0].ext:\n",
    "    print ''\n",
    "    extension.show()"
   ]
  },
  {
   "cell_type": "markdown",
   "metadata": {},
   "source": [
    "## (C) <--- (S) ServerHello"
   ]
  },
  {
   "cell_type": "code",
   "execution_count": 4,
   "metadata": {
    "collapsed": false
   },
   "outputs": [
    {
     "name": "stdout",
     "output_type": "stream",
     "text": [
      "###[ TLS ]### \n",
      "  type      = handshake\n",
      "  version   = TLS 1.2\n",
      "  len       = 84\n",
      "  iv        = ''\n",
      "  \\msg       \\\n",
      "   |###[ TLS Handshake - Server Hello ]### \n",
      "   |  msgtype   = server_hello\n",
      "   |  msglen    = 80\n",
      "   |  version   = TLS 1.2\n",
      "   |  gmt_unix_time= Mon, 26 Mar 2007 06:57:38 +0000 (1174892258)\n",
      "   |  random_bytes= 0c9767b76fb69b1419bddd318040aa512bc22c19152282e8c52ce812\n",
      "   |  sidlen    = 0\n",
      "   |  sid       = ''\n",
      "   |  cipher    = TLS_ECDHE_RSA_WITH_AES_128_GCM_SHA256\n",
      "   |  comp      = null\n",
      "   |  extlen    = 40\n",
      "   |  \\ext       \\\n",
      "   |   |###[ TLS Extension - Server Name ]### \n",
      "   |   |  type      = server_name\n",
      "   |   |  len       = 0\n",
      "   |   |  servernameslen= None\n",
      "   |   |  servernames= []\n",
      "   |   |###[ TLS Extension - Renegotiation Indication ]### \n",
      "   |   |  type      = renegotiation_info\n",
      "   |   |  len       = 1\n",
      "   |   |  reneg_conn_len= 0\n",
      "   |   |  renegotiated_connection= ''\n",
      "   |   |###[ TLS Extension - Supported Point Format ]### \n",
      "   |   |  type      = ec_point_formats\n",
      "   |   |  len       = 4\n",
      "   |   |  ecpllen   = 3\n",
      "   |   |  ecpl      = [uncompressed, ansiX962_compressed_prime, ansiX962_compressed_char2]\n",
      "   |   |###[ TLS Extension - Session Ticket ]### \n",
      "   |   |  type      = session_ticket\n",
      "   |   |  len       = 0\n",
      "   |   |  ticket    = ''\n",
      "   |   |###[ TLS Extension - Certificate Status Request ]### \n",
      "   |   |  type      = status_request\n",
      "   |   |  len       = 0\n",
      "   |   |  stype     = None\n",
      "   |   |  \\req       \\\n",
      "   |   |###[ TLS Extension - Application Layer Protocol Negotiation ]### \n",
      "   |   |  type      = alpn\n",
      "   |   |  len       = 11\n",
      "   |   |  protocolslen= 9\n",
      "   |   |  protocols = [http/1.1]\n",
      "  mac       = ''\n",
      "  pad       = ''\n",
      "  padlen    = None\n",
      "\n"
     ]
    }
   ],
   "source": [
    "record2 = TLS(open('../raw_data/tls_session_protected/02_srv.raw').read())\n",
    "record2.show()"
   ]
  },
  {
   "cell_type": "markdown",
   "metadata": {},
   "source": [
    "## (C) <--- (S) Certificate"
   ]
  },
  {
   "cell_type": "code",
   "execution_count": 5,
   "metadata": {
    "collapsed": false
   },
   "outputs": [
    {
     "name": "stdout",
     "output_type": "stream",
     "text": [
      "###[ TLS ]### \n",
      "  type      = handshake\n",
      "  version   = TLS 1.2\n",
      "  len       = 2677\n",
      "  iv        = ''\n",
      "  \\msg       \\\n",
      "   |###[ TLS Handshake - Certificate ]### \n",
      "   |  msgtype   = certificate\n",
      "   |  msglen    = 2673\n",
      "   |  certslen  = 2670\n",
      "   |  certs     = [(1459, [X.509 Cert. Subject:/C=US/ST=California/L=San Francisco/O=Fastly, Inc./CN=www.github.com, Issuer:/C=US/O=DigiCert Inc/OU=www.digicert.com/CN=DigiCert SHA2 High Assurance Server CA]), (1205, [X.509 Cert. Subject:/C=US/O=DigiCert Inc/OU=www.digicert.com/CN=DigiCert SHA2 High Assurance Server CA, Issuer:/C=US/O=DigiCert Inc/OU=www.digicert.com/CN=DigiCert High Assurance EV Root CA])]\n",
      "  mac       = ''\n",
      "  pad       = ''\n",
      "  padlen    = None\n",
      "\n"
     ]
    }
   ],
   "source": [
    "record3 = TLS(open('../raw_data/tls_session_protected/03_srv.raw').read())\n",
    "record3.show()"
   ]
  },
  {
   "cell_type": "code",
   "execution_count": 6,
   "metadata": {
    "collapsed": false
   },
   "outputs": [
    {
     "name": "stdout",
     "output_type": "stream",
     "text": [
      "<class 'scapy.layers.tls.cert.Cert'>\n",
      "Serial: 9939957917575002227491009216425967204\n",
      "Issuer: /C=US/O=DigiCert Inc/OU=www.digicert.com/CN=DigiCert SHA2 High Assurance Server CA\n",
      "Subject: /C=US/ST=California/L=San Francisco/O=Fastly, Inc./CN=www.github.com\n",
      "Validity: Jan 20 00:00:00 2016 GMT to Apr 06 12:00:00 2017 GMT\n",
      "\n",
      "<class 'scapy.layers.tls.cert.Cert'>\n",
      "Serial: 6489877074546166222510380951761917343\n",
      "Issuer: /C=US/O=DigiCert Inc/OU=www.digicert.com/CN=DigiCert High Assurance EV Root CA\n",
      "Subject: /C=US/O=DigiCert Inc/OU=www.digicert.com/CN=DigiCert SHA2 High Assurance Server CA\n",
      "Validity: Oct 22 12:00:00 2013 GMT to Oct 22 12:00:00 2028 GMT\n",
      "\n"
     ]
    }
   ],
   "source": [
    "# The Certificate message actually contains a *chain* of certificates\n",
    "for cert in record3.msg[0].certs:\n",
    "    print type(cert[1])\n",
    "    cert[1].show()\n",
    "    print ''"
   ]
  },
  {
   "cell_type": "code",
   "execution_count": 7,
   "metadata": {
    "collapsed": false
   },
   "outputs": [
    {
     "name": "stdout",
     "output_type": "stream",
     "text": [
      "###[ TLS Extension - Server Name ]### \n",
      "  type      = server_name\n",
      "  len       = 31\n",
      "  servernameslen= 29\n",
      "  servernames= [camo.githubusercontent.com]\n",
      "\n",
      "<class 'scapy.layers.x509.X509_Cert'>\n",
      "###[ X509_Extension ]### \n",
      "  extnID    = <ASN1_OID['subjectAltName']>\n",
      "  critical  = None\n",
      "  \\extnValue \\\n",
      "   |###[ X509_ExtSubjectAltName ]### \n",
      "   |  \\subjectAltName\\\n",
      "   |   |###[ X509_GeneralName ]### \n",
      "   |   |  \\generalName\\\n",
      "   |   |   |###[ X509_DNSName ]### \n",
      "   |   |   |  dNSName   = <ASN1_IA5_STRING['www.github.com']>\n",
      "   |   |###[ X509_GeneralName ]### \n",
      "   |   |  \\generalName\\\n",
      "   |   |   |###[ X509_DNSName ]### \n",
      "   |   |   |  dNSName   = <ASN1_IA5_STRING['*.github.com']>\n",
      "   |   |###[ X509_GeneralName ]### \n",
      "   |   |  \\generalName\\\n",
      "   |   |   |###[ X509_DNSName ]### \n",
      "   |   |   |  dNSName   = <ASN1_IA5_STRING['github.com']>\n",
      "   |   |###[ X509_GeneralName ]### \n",
      "   |   |  \\generalName\\\n",
      "   |   |   |###[ X509_DNSName ]### \n",
      "   |   |   |  dNSName   = <ASN1_IA5_STRING['*.github.io']>\n",
      "   |   |###[ X509_GeneralName ]### \n",
      "   |   |  \\generalName\\\n",
      "   |   |   |###[ X509_DNSName ]### \n",
      "   |   |   |  dNSName   = <ASN1_IA5_STRING['github.io']>\n",
      "   |   |###[ X509_GeneralName ]### \n",
      "   |   |  \\generalName\\\n",
      "   |   |   |###[ X509_DNSName ]### \n",
      "   |   |   |  dNSName   = <ASN1_IA5_STRING['*.githubusercontent.com']>\n",
      "   |   |###[ X509_GeneralName ]### \n",
      "   |   |  \\generalName\\\n",
      "   |   |   |###[ X509_DNSName ]### \n",
      "   |   |   |  dNSName   = <ASN1_IA5_STRING['githubusercontent.com']>\n",
      "\n"
     ]
    }
   ],
   "source": [
    "# Let's recall the domain that the client wants to access\n",
    "record1.msg[0].ext[0].show()\n",
    "\n",
    "# Indeed the certificate may be used with other domains than its CN 'www.github.com'\n",
    "x509c = record3.msg[0].certs[0][1].x509Cert\n",
    "print type(x509c)\n",
    "x509c.tbsCertificate.extensions[2].show()"
   ]
  },
  {
   "cell_type": "markdown",
   "metadata": {},
   "source": [
    "## (C) <--- (S) CertificateStatus, ServerKeyExchange, ServerHelloDone"
   ]
  },
  {
   "cell_type": "code",
   "execution_count": 8,
   "metadata": {
    "collapsed": false
   },
   "outputs": [
    {
     "name": "stdout",
     "output_type": "stream",
     "text": [
      "###[ TLS ]### \n",
      "  type      = handshake\n",
      "  version   = TLS 1.2\n",
      "  len       = 479\n",
      "  iv        = ''\n",
      "  \\msg       \\\n",
      "   |###[ TLS Handshake - Certificate Status ]### \n",
      "   |  msgtype   = certificate_status\n",
      "   |  msglen    = 475\n",
      "   |  status_type= ocsp\n",
      "   |  responselen= 471\n",
      "   |  \\response  \\\n",
      "   |   |###[ OCSP_Response ]### \n",
      "   |   |  responseStatus= 'successful' 0x0 <ASN1_ENUMERATED[0]>\n",
      "   |   |  \\responseBytes\\\n",
      "   |   |   |###[ OCSP_ResponseBytes ]### \n",
      "   |   |   |  responseType= <ASN1_OID['basic_response']>\n",
      "   |   |   |  \\tbsResponseData\\\n",
      "   |   |   |   |###[ OCSP_ResponseData ]### \n",
      "   |   |   |   |  version   = None\n",
      "   |   |   |   |  \\responderID\\\n",
      "   |   |   |   |   |###[ OCSP_ResponderID ]### \n",
      "   |   |   |   |   |  \\responderID\\\n",
      "   |   |   |   |   |   |###[ OCSP_ByKey ]### \n",
      "   |   |   |   |   |   |  byKey     = <ASN1_STRING['Qh\\xff\\x90\\xaf\\x02\\x07u<\\xcc\\xd9edb\\xa2\\x12\\xb8Yr;']>\n",
      "   |   |   |   |  producedAt= Sep 14 12:10:00 2016 GMT <ASN1_GENERALIZED_TIME['20160914121000Z']>\n",
      "   |   |   |   |  \\responses \\\n",
      "   |   |   |   |   |###[ OCSP_SingleResponse ]### \n",
      "   |   |   |   |   |  \\certID    \\\n",
      "   |   |   |   |   |   |###[ OCSP_CertID ]### \n",
      "   |   |   |   |   |   |  \\hashAlgorithm\\\n",
      "   |   |   |   |   |   |   |###[ X509_AlgorithmIdentifier ]### \n",
      "   |   |   |   |   |   |   |  algorithm = <ASN1_OID['sha1']>\n",
      "   |   |   |   |   |   |   |  parameters= <ASN1_NULL[0]>\n",
      "   |   |   |   |   |   |  issuerNameHash= <ASN1_STRING['\\xcf&\\xf5\\x18\\xfa\\xc9~\\x8f\\x8c\\xb3B\\xe0\\x1c/j\\x10\\x9e\\x8e_\\n']>\n",
      "   |   |   |   |   |   |  issuerKeyHash= <ASN1_STRING['Qh\\xff\\x90\\xaf\\x02\\x07u<\\xcc\\xd9edb\\xa2\\x12\\xb8Yr;']>\n",
      "   |   |   |   |   |   |  serialNumber= 0x77a5dc3362...f7f86f3e64 <ASN1_INTEGER[9939957917...425967204L]>\n",
      "   |   |   |   |   |  \\certStatus\\\n",
      "   |   |   |   |   |   |###[ OCSP_CertStatus ]### \n",
      "   |   |   |   |   |   |  \\certStatus\\\n",
      "   |   |   |   |   |   |   |###[ OCSP_GoodInfo ]### \n",
      "   |   |   |   |   |   |   |  info      = <ASN1_NULL[0]>\n",
      "   |   |   |   |   |  thisUpdate= Sep 14 12:10:00 2016 GMT <ASN1_GENERALIZED_TIME['20160914121000Z']>\n",
      "   |   |   |   |   |  nextUpdate= Sep 21 11:25:00 2016 GMT <ASN1_GENERALIZED_TIME['20160921112500Z']>\n",
      "   |   |   |   |   |  singleExtensions= None\n",
      "   |   |   |   |  responseExtensions= None\n",
      "   |   |   |  \\signatureAlgorithm\\\n",
      "   |   |   |   |###[ X509_AlgorithmIdentifier ]### \n",
      "   |   |   |   |  algorithm = <ASN1_OID['sha256WithRSAEncryption']>\n",
      "   |   |   |   |  parameters= <ASN1_NULL[0]>\n",
      "   |   |   |  signature = <ASN1_BIT_STRING['\\x90\\xef\\xf9\\x15U\\x88\\xac@l\\xf6...$\\x91o\\xec\\xdd\\xbd\\x9e\\x8bb\\xfc'] (0 unused bit)>\n",
      "   |   |   |  certs     = None\n",
      "  mac       = ''\n",
      "  pad       = ''\n",
      "  padlen    = None\n",
      "###[ TLS ]### \n",
      "     type      = handshake\n",
      "     version   = TLS 1.2\n",
      "     len       = 333\n",
      "     iv        = ''\n",
      "     \\msg       \\\n",
      "      |###[ TLS Handshake - Server Key Exchange ]### \n",
      "      |  msgtype   = server_key_exchange\n",
      "      |  msglen    = 329\n",
      "      |  \\params    \\\n",
      "      |   |###[ Server ECDH parameters - Named Curve ]### \n",
      "      |   |  curve_type= named_curve\n",
      "      |   |  named_curve= secp256r1\n",
      "      |   |  pointlen  = 65\n",
      "      |   |  point     = '\\x04\\xc3\\x9d\\x1cD\\xcb\\x85?dU\\x9eg\\xc9\\x90\\xd8\\x80N|F\\x98\\x0cA\\x07\\xdfg\\xa2\\xfb_z\\xe4\\x9b\\xf6\\x06\\xf3L\\x82KJ8\\x0e\\x1a\\x13\\x97;:\\x12\\rdeu\\xb5\\x9f\\x8d\\xaa\\xfc\\x0f\\xacb\\x0e\\xadVX\\x19\\x03u'\n",
      "      |  \\sig       \\\n",
      "      |   |###[ TLS Digital Signature ]### \n",
      "      |   |  sig_alg   = sha512+rsa\n",
      "      |   |  sig_len   = 256\n",
      "      |   |  sig_val   = 'y\\x8aQ\\x11\\x94\\x91\\x7f\\xf7\\xa3#o.\\x11\\x1d\\xb3K\\xede~0\\xfb\\xaf\\x92\\xfb\\xfdY\\x98n\\x17$\\xae\\xf6\\x16\\x14\\x13J;\\x1cm7\\xfa;\\xc8G\\xa6\\x1a}{\\xc2\\xa5\\x1b\\xc5\\x1c\\xb5\\x86\\x18\\x18Z\\xa71\\x86\\x0b-\\xa7/q\\x89+\\xc7$\\xbb\\xf2 \\x17\\xc8`\\xbbt[j\\x9f\\x83\\x88\\xc0\\x8d\\xcf4fu1\\xc3\\xea:B\\r\\xc6\\xc9\\x12jP\\x0c- \\x17\\x17t\\x10\\x17)e\\xbe\\xaao\\xe5@\\xd2\\xcc\\xa5\\x89mRy\\xfapc~\\xa6\\x84\\x80\\xbc4\\xb4B\\xcb\\x92\\x86\\xad\\xf6`9j\\xf0\\x8ee\\xc0|\\xfd\\xdb\\xde!\\xceH\\x0e\\x9c\\xfb\\x85#\\x9f\\xb7\\xccT\\x96\\xe0 \\xfet-\\xd8yUs\\xe7m\\x94\\x07\\xbc]~\\x99\\xd3\\x93\\xfb\\\\\\xfc@B\\x14w\\xce\\xe8n\\x14\\xd4\\xcc\\x07\\xe5\\xb5@j\\x17IQ\\xcfub\\xcf\\xa2\\xde\\xcaU\\xb3 \\x8b\\xdb\\x10Y\\x0cS\\xc7\\x0b\\xd8BP\\xfeX!\\x17\\x94\\x80\\xedu\\xf8M\\xa7r\\xc3\\x04\\xf4\\xd6\\xb7\\x99\\xd1=\\x922\\xf9\\x0b\\x9f\\xe7\\x1b\\x932`15\\xef'\n",
      "     mac       = ''\n",
      "     pad       = ''\n",
      "     padlen    = None\n",
      "###[ TLS ]### \n",
      "        type      = handshake\n",
      "        version   = TLS 1.2\n",
      "        len       = 4\n",
      "        iv        = ''\n",
      "        \\msg       \\\n",
      "         |###[ TLS Handshake - Server Hello Done ]### \n",
      "         |  msgtype   = server_hello_done\n",
      "         |  msglen    = 0\n",
      "        mac       = ''\n",
      "        pad       = ''\n",
      "        padlen    = None\n",
      "\n"
     ]
    }
   ],
   "source": [
    "# Here the server sent three TLS records in the same TCP segment\n",
    "record4 = TLS(open('../raw_data/tls_session_protected/04_srv.raw').read())\n",
    "record4.show()"
   ]
  },
  {
   "cell_type": "code",
   "execution_count": 9,
   "metadata": {
    "collapsed": false
   },
   "outputs": [
    {
     "data": {
      "text/plain": [
       "True"
      ]
     },
     "execution_count": 9,
     "metadata": {},
     "output_type": "execute_result"
    }
   ],
   "source": [
    "# Let's verify the signature in the ServerKeyExchange\n",
    "# First, we need to assemble the whole data being signed\n",
    "cli_random = pkcs_i2osp(record1.msg[0].gmt_unix_time, 4) + record1.msg[0].random_bytes\n",
    "srv_random = pkcs_i2osp(record2.msg[0].gmt_unix_time, 4) + record2.msg[0].random_bytes\n",
    "ecdh_params = str(record4[TLSServerKeyExchange].params)\n",
    "\n",
    "# Then we retrieve the server's Cert and verify the signature\n",
    "cert_srv = record3.msg[0].certs[0][1]\n",
    "cert_srv.verify(cli_random + srv_random + ecdh_params, record4[TLSServerKeyExchange].sig.sig_val, h='sha512')"
   ]
  },
  {
   "cell_type": "markdown",
   "metadata": {
    "collapsed": true
   },
   "source": [
    "## (C) ---> (S) ClientKeyExchange, ChangeCipherSpec, Finished"
   ]
  },
  {
   "cell_type": "code",
   "execution_count": 10,
   "metadata": {
    "collapsed": false
   },
   "outputs": [
    {
     "name": "stdout",
     "output_type": "stream",
     "text": [
      "###[ TLS ]### \n",
      "  type      = handshake\n",
      "  version   = TLS 1.2\n",
      "  len       = 70\n",
      "  iv        = ''\n",
      "  \\msg       \\\n",
      "   |###[ TLS Handshake - Client Key Exchange ]### \n",
      "   |  msgtype   = client_key_exchange\n",
      "   |  msglen    = 66\n",
      "   |  \\exchkeys  \\\n",
      "   |   |###[ Raw ]### \n",
      "   |   |  load      = \"A\\x04\\xd2\\x07\\xce\\xa9v\\xd8\\x1d\\x18\\x9bN\\xe1\\x83U\\x8c\\x8f\\xd5a\\x0f\\xe5_\\x9d\\x0f\\x8c\\x9dT\\xf6\\xa9\\x18'a\\x8fHH@\\x0c\\xd4D\\x801\\x92\\x07\\xf3\\x95\\xa9W\\x18\\xfc\\xb7J\\xe6j\\xbb\\xac\\x0f\\x86\\xae\\n+\\xd5\\xb9\\xdc\\x86[\\xe7\"\n",
      "  mac       = ''\n",
      "  pad       = ''\n",
      "  padlen    = None\n",
      "###[ TLS ]### \n",
      "     type      = change_cipher_spec\n",
      "     version   = TLS 1.2\n",
      "     len       = 1\n",
      "     iv        = ''\n",
      "     \\msg       \\\n",
      "      |###[ TLS ChangeCipherSpec ]### \n",
      "      |  msgtype   = change_cipher_spec\n",
      "     mac       = ''\n",
      "     pad       = ''\n",
      "     padlen    = None\n",
      "###[ TLS ]### \n",
      "        type      = handshake\n",
      "        version   = TLS 1.2\n",
      "        len       = 40\n",
      "        iv        = ''\n",
      "        \\msg       \\\n",
      "         |###[ TLS Handshake - Hello Request ]### \n",
      "         |  msgtype   = hello_request\n",
      "         |  msglen    = 0\n",
      "         |###[ TLS Handshake - Hello Request ]### \n",
      "         |  msgtype   = hello_request\n",
      "         |  msglen    = 0\n",
      "         |###[ Raw ]### \n",
      "         |  load      = '\\xd9\\xcb,\\x8cM\\xfd\\xbc9\\xaa\\x05\\xf3\\xd3\\xf3Z\\x8a-\\xc7^\\xc1\\x8e\\x81M\\xff\\x00\\x0f}G\\xf2\\x8c\\xab\\n='\n",
      "        mac       = ''\n",
      "        pad       = ''\n",
      "        padlen    = None\n",
      "\n"
     ]
    }
   ],
   "source": [
    "record5_str = open('../raw_data/tls_session_protected/05_cli.raw').read()\n",
    "record5 = TLS(record5_str)\n",
    "record5.show()"
   ]
  },
  {
   "cell_type": "code",
   "execution_count": 11,
   "metadata": {
    "collapsed": false
   },
   "outputs": [
    {
     "name": "stdout",
     "output_type": "stream",
     "text": [
      "###[ TLS ]### \n",
      "  type      = handshake\n",
      "  version   = TLS 1.2\n",
      "  len       = 70\n",
      "  iv        = ''\n",
      "  \\msg       \\\n",
      "   |###[ TLS Handshake - Client Key Exchange ]### \n",
      "   |  msgtype   = client_key_exchange\n",
      "   |  msglen    = 66\n",
      "   |  \\exchkeys  \\\n",
      "   |   |###[ Client ECDH Public Value ]### \n",
      "   |   |  ecdh_Yclen= 65\n",
      "   |   |  ecdh_Yc   = \"\\x04\\xd2\\x07\\xce\\xa9v\\xd8\\x1d\\x18\\x9bN\\xe1\\x83U\\x8c\\x8f\\xd5a\\x0f\\xe5_\\x9d\\x0f\\x8c\\x9dT\\xf6\\xa9\\x18'a\\x8fHH@\\x0c\\xd4D\\x801\\x92\\x07\\xf3\\x95\\xa9W\\x18\\xfc\\xb7J\\xe6j\\xbb\\xac\\x0f\\x86\\xae\\n+\\xd5\\xb9\\xdc\\x86[\\xe7\"\n",
      "  mac       = ''\n",
      "  pad       = ''\n",
      "  padlen    = None\n",
      "###[ TLS ]### \n",
      "     type      = change_cipher_spec\n",
      "     version   = TLS 1.2\n",
      "     len       = 1\n",
      "     iv        = ''\n",
      "     \\msg       \\\n",
      "      |###[ TLS ChangeCipherSpec ]### \n",
      "      |  msgtype   = change_cipher_spec\n",
      "     mac       = ''\n",
      "     pad       = ''\n",
      "     padlen    = None\n",
      "###[ TLS ]### \n",
      "        type      = handshake\n",
      "        version   = TLS 1.2\n",
      "        len       = 40    [deciphered_len= 16]\n",
      "        iv        = '\\x00\\x00\\x00\\x00\\x00\\x00\\x00\\x00'\n",
      "        \\msg       \\\n",
      "         |###[ Encrypted Content ]### \n",
      "         |  load      = '\\xd9\\xcb,\\x8cM\\xfd\\xbc9\\xaa\\x05\\xf3\\xd3\\xf3Z\\x8a-'\n",
      "        mac       = '\\xc7^\\xc1\\x8e\\x81M\\xff\\x00\\x0f}G\\xf2\\x8c\\xab\\n='\n",
      "        pad       = ''\n",
      "        padlen    = None\n",
      "\n"
     ]
    }
   ],
   "source": [
    "# Every record has a 'tls_session' context which may enhance the parsing of later records\n",
    "record5 = TLS(record5_str, tls_session=record2.tls_session.mirror())\n",
    "record5.show()"
   ]
  },
  {
   "cell_type": "markdown",
   "metadata": {},
   "source": [
    "## (C) <--- (S) NewSessionTicket, ChangeCipherSpec, Finished"
   ]
  },
  {
   "cell_type": "code",
   "execution_count": 12,
   "metadata": {
    "collapsed": false
   },
   "outputs": [
    {
     "name": "stdout",
     "output_type": "stream",
     "text": [
      "###[ TLS ]### \n",
      "  type      = handshake\n",
      "  version   = TLS 1.2\n",
      "  len       = 202\n",
      "  iv        = ''\n",
      "  \\msg       \\\n",
      "   |###[ TLS Handshake - New Session Ticket ]### \n",
      "   |  msgtype   = session_ticket\n",
      "   |  msglen    = 198\n",
      "   |  lifetime  = 1200\n",
      "   |  ticketlen = 192\n",
      "   |  ticket    = \"c\\xccwJ\\x00\\xdb,B.\\x8fv#\\xdd\\xa9\\xaeS\\x90S \\xb7(^\\x0c\\xed\\n\\xaeM\\x0bN\\xba\\xb4\\x8a4d\\x85\\x88 iN\\xc9\\xd1\\xbe\\xac\\xe2Wb\\xc9N\\xf3\\x85\\xbf\\xb7j\\xa4IB\\x8a\\x1b\\xe4\\x8d\\x1f\\x148%\\xd7R3\\x0f4\\rh\\x8f\\xccBj\\xb5\\r\\xfa\\xc1f\\r?f\\xc4\\x0f_q9\\xe1\\x07B\\x038\\xb4}\\xbb\\xb0\\xfc\\x0eG\\xf2\\t&\\x13\\x98\\xcb\\xfc\\xf6\\xf4\\xeb\\x99!\\t]\\xe2\\xd9-J\\xe4\\xdbK\\xa1\\xe5\\xf0\\t\\xdfX\\x0c\\xb3\\r\\xf9\\x18\\xfb}\\xd9\\nhW1\\xfc\\x1c\\x08DJ,\\xa6#\\xb0\\x15\\x16(&\\xfdP\\x8a%\\xeb\\xc2\\xdd\\xd8\\xa2/\\xbd$\\xc3\\x14\\xfb\\xf3\\x86\\xa3\\xceO\\x18\\x9f\\xfdS|'\\x11\\x02\\xc8\\xa6eW\\xbdo*y\\xf3.\\xcf\\x04\"\n",
      "  mac       = ''\n",
      "  pad       = ''\n",
      "  padlen    = None\n",
      "###[ TLS ]### \n",
      "     type      = change_cipher_spec\n",
      "     version   = TLS 1.2\n",
      "     len       = 1\n",
      "     iv        = ''\n",
      "     \\msg       \\\n",
      "      |###[ TLS ChangeCipherSpec ]### \n",
      "      |  msgtype   = change_cipher_spec\n",
      "     mac       = ''\n",
      "     pad       = ''\n",
      "     padlen    = None\n",
      "###[ TLS ]### \n",
      "        type      = handshake\n",
      "        version   = TLS 1.2\n",
      "        len       = 40    [deciphered_len= 16]\n",
      "        iv        = '\\xd8m\\x92\\t5YZ:'\n",
      "        \\msg       \\\n",
      "         |###[ Encrypted Content ]### \n",
      "         |  load      = '7\\\\)`\\xaa`\\x7ff\\xcd\\x10\\xa9v\\xa3*\\x17\\x1a'\n",
      "        mac       = '\\xecguD\\xa8\\x87$<7+\\n\\x94\\x1e9\\x96\\xfa'\n",
      "        pad       = ''\n",
      "        padlen    = None\n",
      "\n"
     ]
    }
   ],
   "source": [
    "record6_str = open('../raw_data/tls_session_protected/06_srv.raw').read()\n",
    "record6 = TLS(record6_str, tls_session=record5.tls_session.mirror())\n",
    "record6.show()"
   ]
  },
  {
   "cell_type": "markdown",
   "metadata": {},
   "source": [
    "## (C) ---> (S) ApplicationData"
   ]
  },
  {
   "cell_type": "code",
   "execution_count": 13,
   "metadata": {
    "collapsed": false
   },
   "outputs": [
    {
     "name": "stdout",
     "output_type": "stream",
     "text": [
      "###[ TLS ]### \n",
      "  type      = application_data\n",
      "  version   = TLS 1.2\n",
      "  len       = 502    [deciphered_len= 478]\n",
      "  iv        = '\\x00\\x00\\x00\\x00\\x00\\x00\\x00\\x01'\n",
      "  \\msg       \\\n",
      "   |###[ Encrypted Content ]### \n",
      "   |  load      = \"?\\x04iy\\x00\\x04 \\\\\\xd0\\xd4\\x9eG\\x1f\\xbf\\xa3k\\xfe=\\xee\\xce\\x15\\xa0%%\\x06c}\\xf6\\xd4\\xfb\\xa6\\xf0\\xf6\\x0cO\\x1c\\x9c\\x91\\xa9\\x0b\\x88J\\xe0z\\x94\\xcaT\\xeb\\xc7\\xad\\x02j\\x10\\r\\xc6\\x12\\xb9\\xb9\\x7f<\\x84V\\xab\\x1e\\xfc\\xe5\\x01\\xda\\xd6G\\xf5\\xb7\\xf2I6\\x8b\\xc9\\xc4a\\xd3\\x19\\xeat\\xfc\\x9b\\xfa\\x1e\\xe7\\x8c\\xaa\\xb3\\xce\\xd0\\x86G\\x9b\\x90\\xf7\\xde\\xb1\\x8bwM\\x93\\xa2gS>\\xf3\\x97\\xf1CB\\xfb\\x8fs\\x1e\\xff\\x83\\xf9\\x8b\\xc0]\\xbd\\x80Mn3\\xff\\xa9\\xf3)'\\xc3S\\xc8\\xcd:\\xbe\\xd72B~$\\xb2;\\xeb+\\xa4\\xbd\\xa9A\\xd9 \\n\\x87\\xe9\\xe2\\xe9\\x82\\x83M\\x19Q\\xf2n\\x0e\\x15\\xdf\\xb3;0\\xdd&R\\xb7\\x15\\x89\\xe9O\\xd8G7\\x7f\\xc3\\xb8f\\xc7\\xd3\\xc90R\\x83\\xf3\\xd4\\x1cd\\xe8\\xc5\\x8d\\xe4N(k7\\xf0\\xb7\\xbd\\x01\\xb3\\x9b\\x86\\xbaC.\\x17\\x8d\\xd0g\\xc9\\xb1\\x01\\xfa\\x01\\xbe\\xdbt\\xb1u/\\x19V\\xc6\\x08@\\xff\\xa8n\\xe8\\xd0\\xd6n,\\x05\\xc9\\xc2\\xd8g\\x19\\x03.l\\xb4)\\xa09\\xf9\\xe7\\x83\\x01-\\xe8\\xf8\\xffy\\xbf\\xf7\\xe6\\x11\\xc5\\xf5\\x9aG\\xb3e \\xd85\\x0f\\x8f\\x85H\\xea\\xc2n\\x1eR\\xbe\\x01\\xef\\xef\\x93\\xe7*>\\xbd\\x84\\x8b9HDI\\x90\\xc4$\\x9a\\x9aK\\x88Ki\\n\\xa3\\xab\\xed\\x91\\xcd\\xe8\\xb1\\xd4\\x8e\\xbcE\\x88\\xe8\\x05\\x16\\xd5\\xed\\x18\\x16g>\\x04\\xd8\\x1dB}\\x91\\x90\\xd1\\xda\\x03\\xe1\\x972CxtD\\x85\\xafF|~7D9*U\\xad\\x0b\\xc4#\\x06}\\xec\\xd6\\xd3?y\\x96\\xa4\\xb5\\xa3\\x1d\\x1c\\xbd\\xc9\\xc9g\\xb12\\xc9\\x0f\\xa1\\x03\\x12N\\x0b\\xec\\x14\\xc9vJ\\nM\\xa7\\xc8h\\xd0|(1(\\xa3\\x98@nH\\n\\x0b\\xa80\\x00\\x02\\xb7\\x06Z\\xd4M\\xdc!AV\\xe2\\xa7*\\xc3\\x90U\\xee\\xd0\\xb2\\x05\\xa3w\\xe1\\xe2\\xbe\\x1e\\xbe\\xd4u\\xb1\\xa1z\\x1e\\x1c\\x15%7\\xdd\\xf9\\xb9~\\x02\\xf9s\\x0c1\\xfb;\\xab\\xf1\\x1e\\xaf\\x06\\x8c\\xafe\\x00\\x15e5\\xac\\xd7]\"\n",
      "  mac       = '>\\x1dLb5\\x8e+\\x01n\\xcb\\x19\\xcc\\x17Ey\\xc8'\n",
      "  pad       = ''\n",
      "  padlen    = None\n",
      "\n"
     ]
    }
   ],
   "source": [
    "record7_str = open('../raw_data/tls_session_protected/07_cli.raw').read()\n",
    "record7 = TLS(record7_str, tls_session=record6.tls_session.mirror())\n",
    "record7.show()"
   ]
  }
 ],
 "metadata": {
  "kernelspec": {
   "display_name": "Python 2",
   "language": "python",
   "name": "python2"
  },
  "language_info": {
   "codemirror_mode": {
    "name": "ipython",
    "version": 2
   },
   "file_extension": ".py",
   "mimetype": "text/x-python",
   "name": "python",
   "nbconvert_exporter": "python",
   "pygments_lexer": "ipython2",
   "version": "2.7.13"
  }
 },
 "nbformat": 4,
 "nbformat_minor": 2
}
