{
 "cells": [
  {
   "cell_type": "markdown",
   "metadata": {},
   "source": [
    "# The lack of PFS: a danger to privacy"
   ]
  },
  {
   "cell_type": "code",
   "execution_count": 1,
   "metadata": {
    "collapsed": true
   },
   "outputs": [],
   "source": [
    "from scapy.all import *"
   ]
  },
  {
   "cell_type": "code",
   "execution_count": 2,
   "metadata": {
    "collapsed": false
   },
   "outputs": [
    {
     "name": "stdout",
     "output_type": "stream",
     "text": [
      "###[ TLS Handshake - Client Hello ]### \n",
      "  msgtype   = client_hello\n",
      "  msglen    = 49\n",
      "  version   = TLS 1.0\n",
      "  gmt_unix_time= Tue, 21 Feb 2017 09:55:24 +0000 (1487670924)\n",
      "  random_bytes= e436e9ed6fda0835244dae2490d9a933b728134af9c53feff496a1fa\n",
      "  sidlen    = 0\n",
      "  sid       = ''\n",
      "  cipherslen= 4\n",
      "  ciphers   = [TLS_RSA_WITH_AES_128_CBC_SHA, TLS_EMPTY_RENEGOTIATION_INFO_SCSV]\n",
      "  complen   = 1\n",
      "  comp      = null\n",
      "  extlen    = 4\n",
      "  \\ext       \\\n",
      "   |###[ TLS Extension - Session Ticket ]### \n",
      "   |  type      = session_ticket\n",
      "   |  len       = 0\n",
      "   |  ticket    = ''\n",
      "\n"
     ]
    }
   ],
   "source": [
    "record1_str = open('../notebooks/raw_data/tls_session_compromised/01_cli.raw').read()\n",
    "record1 = TLS(record1_str)\n",
    "record1.msg[0].show()"
   ]
  },
  {
   "cell_type": "code",
   "execution_count": 3,
   "metadata": {
    "collapsed": false,
    "scrolled": true
   },
   "outputs": [
    {
     "name": "stdout",
     "output_type": "stream",
     "text": [
      "###[ TLS Handshake - Server Hello ]### \n",
      "  msgtype   = server_hello\n",
      "  msglen    = 49\n",
      "  version   = TLS 1.0\n",
      "  gmt_unix_time= Sat, 30 Aug 2042 16:13:35 +0000 (2293028015)\n",
      "  random_bytes= 937eb51b3863e729a69ba9edf3f32adb008b42f60acb7a8e50836047\n",
      "  sidlen    = 0\n",
      "  sid       = ''\n",
      "  cipher    = TLS_RSA_WITH_AES_128_CBC_SHA\n",
      "  comp      = null\n",
      "  extlen    = 9\n",
      "  \\ext       \\\n",
      "   |###[ TLS Extension - Renegotiation Indication ]### \n",
      "   |  type      = renegotiation_info\n",
      "   |  len       = 1\n",
      "   |  reneg_conn_len= 0\n",
      "   |  renegotiated_connection= ''\n",
      "   |###[ TLS Extension - Session Ticket ]### \n",
      "   |  type      = session_ticket\n",
      "   |  len       = 0\n",
      "   |  ticket    = ''\n",
      "\n"
     ]
    }
   ],
   "source": [
    "record2_str = open('../notebooks/raw_data/tls_session_compromised/02_srv.raw').read()\n",
    "record2 = TLS(record2_str, tls_session=record1.tls_session.mirror())\n",
    "record2.msg[0].show()"
   ]
  },
  {
   "cell_type": "code",
   "execution_count": 4,
   "metadata": {
    "collapsed": false
   },
   "outputs": [
    {
     "name": "stdout",
     "output_type": "stream",
     "text": [
      "###[ TLS ]### \n",
      "  type      = handshake\n",
      "  version   = TLS 1.0\n",
      "  len       = 262\n",
      "  iv        = ''\n",
      "  \\msg       \\\n",
      "   |###[ TLS Handshake - Client Key Exchange ]### \n",
      "   |  msgtype   = client_key_exchange\n",
      "   |  msglen    = 258\n",
      "   |  \\exchkeys  \\\n",
      "   |   |###[ RSA Encrypted PreMaster Secret (protected) ]### \n",
      "   |   |  load      = \"\\x01\\x00w\\x93\\xec\\xfa\\xf3\\xdf[\\x9a4\\xa7\\x9e\\xcd\\x06=\\x8dH\\xf1\\x069\\x8c\\x06\\x01S\\xf7\\xb5\\x16h\\xf6\\xd5 I\\xd7\\xf0\\xc5Z\\xf6\\xe0f7\\x95\\x91\\xddNC\\xe7$\\xf5\\xdaZ\\xcdG\\xd8\\x14\\xcaV\\x98\\xc4\\xb2\\x8cm\\xe51@\\x9b\\x9c\\xb8\\xadul\\xd0\\xdf\\xf2\\xd7@Q\\xe4\\x05J\\xf31[\\xdf\\xc8'(\\x8f#\\xf0\\xc4\\x1c\\xc6\\x07G\\xb327\\x85\\xad\\xa2\\xa6\\xa2E\\x18\\x85rP\\xb8\\x86uL\\\\7\\x82\\x18\\xceh\\xc6\\xd1\\xf4\\xcc\\xb9VN\\x85\\x7f9c\\x92\\t\\x96\\x8e\\x80\\x06\\xe4\\r\\xbfu<\\xabgP^z\\xc7\\xfd\\x8e\\x12t^\\xb7\\xc7Lr\\xdc5\\xf8\\xa7\\xdb\\x9c\\xbd\\xd5\\xad\\xabP<\\xe7\\x9f%f\\xb4\\xd8\\xf4\\xf0~\\x99\\xbeZ\\xe9\\xbc\\x0c9\\r\\xb2Uq\\xfcd\\xa4\\xda\\x89\\x90\\xd1\\x15\\x05\\xcc\\x00\\xb1\\xcd\\xa9c\\xb4\\xe8\\x7fRH\\xbd\\xe1\\xd2\\xd8\\x9c\\xb6\\xd2\\x8dq9\\xe5\\t\\xeb\\xfc\\x1b\\x06\\xac\\xab\\x96\\xa7\\xfd{\\xdf\\xf2\\x16\\r\\xd6'\\xb8\\xd3\\xa5L\\xc8\\x08 \\xb9\\xccN\\xe5\\xf0\\xa0S\\xf3\\xc3\\xc9\\xdf\\xee\\xd0\\r\\xd8[\"\n",
      "  mac       = ''\n",
      "  pad       = ''\n",
      "  padlen    = None\n",
      "###[ TLS ]### \n",
      "     type      = change_cipher_spec\n",
      "     version   = TLS 1.0\n",
      "     len       = 1\n",
      "     iv        = ''\n",
      "     \\msg       \\\n",
      "      |###[ TLS ChangeCipherSpec ]### \n",
      "      |  msgtype   = change_cipher_spec\n",
      "     mac       = ''\n",
      "     pad       = ''\n",
      "     padlen    = None\n",
      "###[ TLS ]### \n",
      "        type      = handshake\n",
      "        version   = TLS 1.0\n",
      "        len       = 48\n",
      "        iv        = ''\n",
      "        \\msg       \\\n",
      "         |###[ Encrypted Content ]### \n",
      "         |  load      = \"~\\x01\\xe1!2\\x90\\xba\\xc8 \\xb6\\x8c\\xb7\\xd9\\xf5\\x80\\x1d$Z^\\xc8\\xa3\\x9f\\xb3\\xf1M\\x0c\\xd1\\xedd\\xb1'\\x0f\\xe4ER\\xc9\\xf7L\\xf3;\\xc1\\xbaz\\xfa\\xb76\\xe3q\"\n",
      "        mac       = ''\n",
      "        pad       = ''\n",
      "        padlen    = None\n",
      "\n"
     ]
    }
   ],
   "source": [
    "record3_str = open('../notebooks/raw_data/tls_session_compromised/03_cli.raw').read()\n",
    "record3 = TLS(record3_str, tls_session=record2.tls_session.mirror())\n",
    "record3.show()"
   ]
  },
  {
   "cell_type": "code",
   "execution_count": 5,
   "metadata": {
    "collapsed": false
   },
   "outputs": [
    {
     "name": "stdout",
     "output_type": "stream",
     "text": [
      "###[ TLS ]### \n",
      "  type      = handshake\n",
      "  version   = TLS 1.0\n",
      "  len       = 170\n",
      "  iv        = ''\n",
      "  \\msg       \\\n",
      "   |###[ TLS Handshake - New Session Ticket ]### \n",
      "   |  msgtype   = session_ticket\n",
      "   |  msglen    = 166\n",
      "   |  lifetime  = 7200\n",
      "   |  ticketlen = 160\n",
      "   |  ticket    = \"*\\xf5.4:\\xe4;t\\xf0v\\xed\\xeaLX\\xa5\\xce*@\\xe7\\x83\\rWx\\xadWkM-\\x95\\xe7\\x98\\xcb6x\\xeb\\xca\\xfe8\\xf5\\x84*\\x9bAmZ/o9\\xb03\\xea\\x1e\\x99\\xfdQ\\xbfe\\r\\xe8W\\xd5\\xdb\\xdd\\x83\\x90\\x14\\xc6\\xef\\x10s\\x15\\xff\\xc2U\\xce\\xb0\\x00\\x11\\x02|\\xed\\x99\\xbac\\xfb\\x03M\\xce\\xd3\\x92\\xbe\\x98\\x95\\x1c\\xef\\x9b\\xb1\\xd6,\\x0c6Td\\xc9j*\\x17\\xb9\\xde\\x13\\x8f\\xba[\\xbcD\\x1b\\x9a~\\xe9\\xa2\\xf3\\xa4V3\\xfe\\xd6'\\xc8i+\\xb0m\\xf8&\\x86\\x83\\xaa\\xe5\\x1d\\x06\\x07lOx\\x06 \\x02\\xbe\\xfe\\xda\\x93-\\x9fk\\xeaHu\\x8a\\xec_\"\n",
      "  mac       = ''\n",
      "  pad       = ''\n",
      "  padlen    = None\n",
      "###[ TLS ]### \n",
      "     type      = change_cipher_spec\n",
      "     version   = TLS 1.0\n",
      "     len       = 1\n",
      "     iv        = ''\n",
      "     \\msg       \\\n",
      "      |###[ TLS ChangeCipherSpec ]### \n",
      "      |  msgtype   = change_cipher_spec\n",
      "     mac       = ''\n",
      "     pad       = ''\n",
      "     padlen    = None\n",
      "###[ TLS ]### \n",
      "        type      = handshake\n",
      "        version   = TLS 1.0\n",
      "        len       = 48\n",
      "        iv        = ''\n",
      "        \\msg       \\\n",
      "         |###[ Encrypted Content ]### \n",
      "         |  load      = \"Pc\\xe0T+\\x17\\\\>\\xd0\\xbc\\xe6Xx}\\xe5\\xa26\\xea\\x0b\\xad\\x1bY\\x1b\\x05,\\x7f\\xeeQ\\xd6\\xea!\\x9d.\\xe0\\xf3\\x88\\xe6'jV\\xfdz]M'\\xcejJ\"\n",
      "        mac       = ''\n",
      "        pad       = ''\n",
      "        padlen    = None\n",
      "\n"
     ]
    }
   ],
   "source": [
    "record4_str = open('../notebooks/raw_data/tls_session_compromised/04_srv.raw').read()\n",
    "record4 = TLS(record4_str, tls_session=record3.tls_session.mirror())\n",
    "record4.show()"
   ]
  },
  {
   "cell_type": "code",
   "execution_count": 6,
   "metadata": {
    "collapsed": false,
    "scrolled": true
   },
   "outputs": [
    {
     "name": "stdout",
     "output_type": "stream",
     "text": [
      "###[ TLS ]### \n",
      "  type      = application_data\n",
      "  version   = TLS 1.0\n",
      "  len       = 32\n",
      "  iv        = ''\n",
      "  \\msg       \\\n",
      "   |###[ Encrypted Content ]### \n",
      "   |  load      = \"\\xe8\\x91'mRT\\x17\\xa1\\xd6}+\\x80\\x02\\xda\\xadw.\\x82TA'\\xdep\\xa4\\xe1\\xb1H\\xa9\\xb1\\x81gw\"\n",
      "  mac       = ''\n",
      "  pad       = ''\n",
      "  padlen    = None\n",
      "###[ TLS ]### \n",
      "     type      = application_data\n",
      "     version   = TLS 1.0\n",
      "     len       = 80\n",
      "     iv        = ''\n",
      "     \\msg       \\\n",
      "      |###[ Encrypted Content ]### \n",
      "      |  load      = '\\xddD\\x18\\xdb\\x82pz\\xb75>\\x1c\\xd7\\xa9=\\x18C\\xbd\\xf0F\\xa1k\\x0c\\xe5&\\xf2\\xdf\\x97\\xf0\\xab5\\xf41W\\x85 \\xcf\\xd9\\x98\\xa4\\xe8\\xcc\\xff \\x1c\\xbc\\xb3U\\xc8\\x9c>\\xc4$\\xa5U\\xc6\\xd4\\x1f\"\\xce\\xf0\\x98\\xf0D\\xd2\\x1d\\r*\\x99*\\xdcd4?\\xc9\\x0b\\xa6\\xb2\\x81%\\xfc'\n",
      "     mac       = ''\n",
      "     pad       = ''\n",
      "     padlen    = None\n",
      "\n"
     ]
    }
   ],
   "source": [
    "record5_str = open('../notebooks/raw_data/tls_session_compromised/05_cli.raw').read()\n",
    "record5 = TLS(record5_str, tls_session=record4.tls_session.mirror())\n",
    "record5.show()"
   ]
  },
  {
   "cell_type": "code",
   "execution_count": 7,
   "metadata": {
    "collapsed": false
   },
   "outputs": [],
   "source": [
    "# Now suppose we possess the private key of the server\n",
    "# Let's reload the records and register the key to the session\n",
    "record1_str = open('../notebooks/raw_data/tls_session_compromised/01_cli.raw').read()\n",
    "record1 = TLS(record1_str)\n",
    "record2_str = open('../notebooks/raw_data/tls_session_compromised/02_srv.raw').read()\n",
    "record2 = TLS(record2_str, tls_session=record1.tls_session.mirror())\n",
    "key = PrivKey('../notebooks/raw_data/pki/srv_key.pem')\n",
    "record2.tls_session.server_rsa_key = key"
   ]
  },
  {
   "cell_type": "code",
   "execution_count": 8,
   "metadata": {
    "collapsed": false
   },
   "outputs": [
    {
     "name": "stdout",
     "output_type": "stream",
     "text": [
      "###[ TLS ]### \n",
      "  type      = handshake\n",
      "  version   = TLS 1.0\n",
      "  len       = 262\n",
      "  iv        = ''\n",
      "  \\msg       \\\n",
      "   |###[ TLS Handshake - Client Key Exchange ]### \n",
      "   |  msgtype   = client_key_exchange\n",
      "   |  msglen    = 258\n",
      "   |  \\exchkeys  \\\n",
      "   |   |###[ RSA Encrypted PreMaster Secret ]### \n",
      "   |   |  client_version= TLS 1.0\n",
      "   |   |  random    = \"\\x1b\\xac\\x01\\xbeW\\xd5\\\\'\\xf9\\x14\\x95+k\\xec\\xb3D\\xcd\\xd4\\x16\\xe7%}\\xff\\xee\\x92Y\\xe8\\xf3z\\x1d\\xbb\\xce3\\x08\\x9a\\xe0U\\xb4e=^Z\\x00\\xd0=\\xba\"\n",
      "  mac       = ''\n",
      "  pad       = ''\n",
      "  padlen    = None\n",
      "###[ TLS ]### \n",
      "     type      = change_cipher_spec\n",
      "     version   = TLS 1.0\n",
      "     len       = 1\n",
      "     iv        = ''\n",
      "     \\msg       \\\n",
      "      |###[ TLS ChangeCipherSpec ]### \n",
      "      |  msgtype   = change_cipher_spec\n",
      "     mac       = ''\n",
      "     pad       = ''\n",
      "     padlen    = None\n",
      "###[ TLS ]### \n",
      "        type      = handshake\n",
      "        version   = TLS 1.0\n",
      "        len       = 48    [deciphered_len= 16]\n",
      "        iv        = ''\n",
      "        \\msg       \\\n",
      "         |###[ TLS Handshake - Finished ]### \n",
      "         |  msgtype   = finished\n",
      "         |  msglen    = 12\n",
      "         |  vdata     = '\\xc1E\\xd7\\xa0\\x004]\\x11\\xe1m\\x9dH'\n",
      "        mac       = '\\xbe\\x95b\\x9c\\xcfd\\xca%\\xbc(\\x12X\\xad\\x93\\xab?\\xdf\\xc1\\xee\\xba'\n",
      "        pad       = '\\x0b\\x0b\\x0b\\x0b\\x0b\\x0b\\x0b\\x0b\\x0b\\x0b\\x0b'\n",
      "        padlen    = 11\n",
      "\n"
     ]
    }
   ],
   "source": [
    "record3_str = open('../notebooks/raw_data/tls_session_compromised/03_cli.raw').read()\n",
    "record3 = TLS(record3_str, tls_session=record2.tls_session.mirror())\n",
    "record3.show()"
   ]
  },
  {
   "cell_type": "code",
   "execution_count": 9,
   "metadata": {
    "collapsed": false
   },
   "outputs": [
    {
     "name": "stdout",
     "output_type": "stream",
     "text": [
      "###[ TLS ]### \n",
      "  type      = handshake\n",
      "  version   = TLS 1.0\n",
      "  len       = 170\n",
      "  iv        = ''\n",
      "  \\msg       \\\n",
      "   |###[ TLS Handshake - New Session Ticket ]### \n",
      "   |  msgtype   = session_ticket\n",
      "   |  msglen    = 166\n",
      "   |  lifetime  = 7200\n",
      "   |  ticketlen = 160\n",
      "   |  ticket    = \"*\\xf5.4:\\xe4;t\\xf0v\\xed\\xeaLX\\xa5\\xce*@\\xe7\\x83\\rWx\\xadWkM-\\x95\\xe7\\x98\\xcb6x\\xeb\\xca\\xfe8\\xf5\\x84*\\x9bAmZ/o9\\xb03\\xea\\x1e\\x99\\xfdQ\\xbfe\\r\\xe8W\\xd5\\xdb\\xdd\\x83\\x90\\x14\\xc6\\xef\\x10s\\x15\\xff\\xc2U\\xce\\xb0\\x00\\x11\\x02|\\xed\\x99\\xbac\\xfb\\x03M\\xce\\xd3\\x92\\xbe\\x98\\x95\\x1c\\xef\\x9b\\xb1\\xd6,\\x0c6Td\\xc9j*\\x17\\xb9\\xde\\x13\\x8f\\xba[\\xbcD\\x1b\\x9a~\\xe9\\xa2\\xf3\\xa4V3\\xfe\\xd6'\\xc8i+\\xb0m\\xf8&\\x86\\x83\\xaa\\xe5\\x1d\\x06\\x07lOx\\x06 \\x02\\xbe\\xfe\\xda\\x93-\\x9fk\\xeaHu\\x8a\\xec_\"\n",
      "  mac       = ''\n",
      "  pad       = ''\n",
      "  padlen    = None\n",
      "###[ TLS ]### \n",
      "     type      = change_cipher_spec\n",
      "     version   = TLS 1.0\n",
      "     len       = 1\n",
      "     iv        = ''\n",
      "     \\msg       \\\n",
      "      |###[ TLS ChangeCipherSpec ]### \n",
      "      |  msgtype   = change_cipher_spec\n",
      "     mac       = ''\n",
      "     pad       = ''\n",
      "     padlen    = None\n",
      "###[ TLS ]### \n",
      "        type      = handshake\n",
      "        version   = TLS 1.0\n",
      "        len       = 48    [deciphered_len= 16]\n",
      "        iv        = ''\n",
      "        \\msg       \\\n",
      "         |###[ TLS Handshake - Finished ]### \n",
      "         |  msgtype   = finished\n",
      "         |  msglen    = 12\n",
      "         |  vdata     = '\\xf7\\xb7`\\xd4\\x98U!\\xa1\\xa2\\x99t\\x82'\n",
      "        mac       = 'Lm\\x1e\\x0e\\x88\\xb5\\xcf e\\x7fx\\xac\\xc3\\xfbM\\x079Q;\\x90'\n",
      "        pad       = '\\x0b\\x0b\\x0b\\x0b\\x0b\\x0b\\x0b\\x0b\\x0b\\x0b\\x0b'\n",
      "        padlen    = 11\n",
      "\n"
     ]
    }
   ],
   "source": [
    "record4_str = open('../notebooks/raw_data/tls_session_compromised/04_srv.raw').read()\n",
    "record4 = TLS(record4_str, tls_session=record3.tls_session.mirror())\n",
    "record4.show()"
   ]
  },
  {
   "cell_type": "code",
   "execution_count": 10,
   "metadata": {
    "collapsed": false
   },
   "outputs": [
    {
     "name": "stdout",
     "output_type": "stream",
     "text": [
      "###[ TLS ]### \n",
      "  type      = application_data\n",
      "  version   = TLS 1.0\n",
      "  len       = 32    [deciphered_len= 0]\n",
      "  iv        = ''\n",
      "  \\msg       \\\n",
      "   |###[ TLS Application Data ]### \n",
      "   |  data      = ''\n",
      "  mac       = \"\\xc4\\x1c\\xde+'\\xed0n0\\xcfg\\xf4\\xb2j/\\xd0\\xda\\xc8$q\"\n",
      "  pad       = '\\x0b\\x0b\\x0b\\x0b\\x0b\\x0b\\x0b\\x0b\\x0b\\x0b\\x0b'\n",
      "  padlen    = 11\n",
      "###[ TLS ]### \n",
      "     type      = application_data\n",
      "     version   = TLS 1.0\n",
      "     len       = 80    [deciphered_len= 45]\n",
      "     iv        = ''\n",
      "     \\msg       \\\n",
      "      |###[ TLS Application Data ]### \n",
      "      |  data      = 'To boldly go where no man has gone before...\\n'\n",
      "     mac       = '\\xdb\\xe5\\x00\\x0b\\x14\\x0c\\x1b\\x9c\\x19F\\xdf\\x12L\\xbdO\\xed\\x0e\\xae\\xbf\\x92'\n",
      "     pad       = '\\x0e\\x0e\\x0e\\x0e\\x0e\\x0e\\x0e\\x0e\\x0e\\x0e\\x0e\\x0e\\x0e\\x0e'\n",
      "     padlen    = 14\n",
      "\n"
     ]
    }
   ],
   "source": [
    "record5_str = open('../notebooks/raw_data/tls_session_compromised/05_cli.raw').read()\n",
    "record5 = TLS(record5_str, tls_session=record4.tls_session.mirror())\n",
    "record5.show()"
   ]
  }
 ],
 "metadata": {
  "kernelspec": {
   "display_name": "Python 2",
   "language": "python",
   "name": "python2"
  },
  "language_info": {
   "codemirror_mode": {
    "name": "ipython",
    "version": 2
   },
   "file_extension": ".py",
   "mimetype": "text/x-python",
   "name": "python",
   "nbconvert_exporter": "python",
   "pygments_lexer": "ipython2",
   "version": "2.7.13"
  }
 },
 "nbformat": 4,
 "nbformat_minor": 2
}
