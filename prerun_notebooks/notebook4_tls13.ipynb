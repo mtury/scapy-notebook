{
 "cells": [
  {
   "cell_type": "markdown",
   "metadata": {},
   "source": [
    "# TLS 1.3 handshake overview\n",
    "This is the basic TLS 1.3 handshake:\n",
    "\n",
    "<img src=\"../notebooks/images/handshake_tls13.png\" alt=\"Handshake TLS 1.3\" width=\"400\"/>"
   ]
  },
  {
   "cell_type": "code",
   "execution_count": 1,
   "metadata": {
    "collapsed": true
   },
   "outputs": [],
   "source": [
    "from scapy.all import *"
   ]
  },
  {
   "cell_type": "code",
   "execution_count": 2,
   "metadata": {
    "collapsed": false
   },
   "outputs": [
    {
     "name": "stdout",
     "output_type": "stream",
     "text": [
      "###[ TLS ]### \n",
      "  type      = handshake\n",
      "  version   = TLS 1.0\n",
      "  len       = 512\n",
      "  iv        = ''\n",
      "  \\msg       \\\n",
      "   |###[ TLS Handshake - Client Hello ]### \n",
      "   |  msgtype   = client_hello\n",
      "   |  msglen    = 508\n",
      "   |  version   = TLS 1.2\n",
      "   |  gmt_unix_time= Mon, 08 Jan 2052 03:51:18 +0000 (2588298678)\n",
      "   |  random_bytes= 50dcc81fed6f1fea635f15861574c0ed0bfb5778de7724fb927c5ef1\n",
      "   |  sidlen    = 0\n",
      "   |  sid       = ''\n",
      "   |  cipherslen= 62\n",
      "   |  ciphers   = [TLS_AES_128_GCM_SHA256, TLS_CHACHA20_POLY1305_SHA256, TLS_AES_256_GCM_SHA384, TLS_ECDHE_ECDSA_WITH_AES_128_GCM_SHA256, TLS_ECDHE_RSA_WITH_AES_128_GCM_SHA256, TLS_ECDHE_ECDSA_WITH_CHACHA20_POLY1305_SHA256, TLS_ECDHE_RSA_WITH_CHACHA20_POLY1305_SHA256, TLS_ECDHE_ECDSA_WITH_AES_256_CBC_SHA, TLS_ECDHE_ECDSA_WITH_AES_128_CBC_SHA, TLS_ECDHE_RSA_WITH_AES_128_CBC_SHA, TLS_ECDHE_ECDSA_WITH_AES_128_CBC_SHA256, TLS_ECDHE_RSA_WITH_AES_128_CBC_SHA256, TLS_ECDHE_RSA_WITH_AES_256_CBC_SHA, TLS_DHE_RSA_WITH_AES_128_GCM_SHA256, TLS_DHE_RSA_WITH_CHACHA20_POLY1305_SHA256, TLS_DHE_RSA_WITH_AES_128_CBC_SHA, TLS_DHE_DSS_WITH_AES_128_CBC_SHA, TLS_DHE_RSA_WITH_AES_128_CBC_SHA256, TLS_DHE_RSA_WITH_AES_256_CBC_SHA, TLS_DHE_DSS_WITH_AES_256_CBC_SHA, TLS_DHE_RSA_WITH_AES_256_CBC_SHA256, TLS_DHE_RSA_WITH_3DES_EDE_CBC_SHA, TLS_DHE_DSS_WITH_3DES_EDE_CBC_SHA, TLS_RSA_WITH_AES_128_GCM_SHA256, TLS_RSA_WITH_AES_128_CBC_SHA, TLS_RSA_WITH_AES_128_CBC_SHA256, TLS_RSA_WITH_AES_256_CBC_SHA, TLS_RSA_WITH_AES_256_CBC_SHA256, TLS_RSA_WITH_3DES_EDE_CBC_SHA, TLS_RSA_WITH_RC4_128_SHA, TLS_RSA_WITH_RC4_128_MD5]\n",
      "   |  complen   = 1\n",
      "   |  comp      = null\n",
      "   |  extlen    = 405\n",
      "   |  \\ext       \\\n",
      "   |   |###[ TLS Extension - Padding ]### \n",
      "   |   |  type      = padding\n",
      "   |   |  len       = 252\n",
      "   |   |  padding   = '\\x00\\x00\\x00\\x00\\x00\\x00\\x00\\x00\\x00\\x00\\x00\\x00\\x00\\x00\\x00\\x00\\x00\\x00\\x00\\x00\\x00\\x00\\x00\\x00\\x00\\x00\\x00\\x00\\x00\\x00\\x00\\x00\\x00\\x00\\x00\\x00\\x00\\x00\\x00\\x00\\x00\\x00\\x00\\x00\\x00\\x00\\x00\\x00\\x00\\x00\\x00\\x00\\x00\\x00\\x00\\x00\\x00\\x00\\x00\\x00\\x00\\x00\\x00\\x00\\x00\\x00\\x00\\x00\\x00\\x00\\x00\\x00\\x00\\x00\\x00\\x00\\x00\\x00\\x00\\x00\\x00\\x00\\x00\\x00\\x00\\x00\\x00\\x00\\x00\\x00\\x00\\x00\\x00\\x00\\x00\\x00\\x00\\x00\\x00\\x00\\x00\\x00\\x00\\x00\\x00\\x00\\x00\\x00\\x00\\x00\\x00\\x00\\x00\\x00\\x00\\x00\\x00\\x00\\x00\\x00\\x00\\x00\\x00\\x00\\x00\\x00\\x00\\x00\\x00\\x00\\x00\\x00\\x00\\x00\\x00\\x00\\x00\\x00\\x00\\x00\\x00\\x00\\x00\\x00\\x00\\x00\\x00\\x00\\x00\\x00\\x00\\x00\\x00\\x00\\x00\\x00\\x00\\x00\\x00\\x00\\x00\\x00\\x00\\x00\\x00\\x00\\x00\\x00\\x00\\x00\\x00\\x00\\x00\\x00\\x00\\x00\\x00\\x00\\x00\\x00\\x00\\x00\\x00\\x00\\x00\\x00\\x00\\x00\\x00\\x00\\x00\\x00\\x00\\x00\\x00\\x00\\x00\\x00\\x00\\x00\\x00\\x00\\x00\\x00\\x00\\x00\\x00\\x00\\x00\\x00\\x00\\x00\\x00\\x00\\x00\\x00\\x00\\x00\\x00\\x00\\x00\\x00\\x00\\x00\\x00\\x00\\x00\\x00\\x00\\x00\\x00\\x00\\x00\\x00\\x00\\x00\\x00\\x00\\x00\\x00\\x00\\x00\\x00\\x00\\x00\\x00\\x00\\x00\\x00\\x00\\x00\\x00'\n",
      "   |   |###[ TLS Extension - Server Name ]### \n",
      "   |   |  type      = server_name\n",
      "   |   |  len       = 11\n",
      "   |   |  servernameslen= 9\n",
      "   |   |  servernames= [server]\n",
      "   |   |###[ TLS Extension - Renegotiation Indication ]### \n",
      "   |   |  type      = renegotiation_info\n",
      "   |   |  len       = 1\n",
      "   |   |  reneg_conn_len= 0\n",
      "   |   |  renegotiated_connection= ''\n",
      "   |   |###[ TLS Extension - Supported Groups ]### \n",
      "   |   |  type      = supported_groups\n",
      "   |   |  len       = 20\n",
      "   |   |  groupslen = 18\n",
      "   |   |  groups    = [x25519, secp256r1, secp384r1, secp521r1, ffdhe2048, ffdhe3072, ffdhe4096, ffdhe6144, ffdhe8192]\n",
      "   |   |###[ TLS Extension - Supported Point Format ]### \n",
      "   |   |  type      = ec_point_formats\n",
      "   |   |  len       = 2\n",
      "   |   |  ecpllen   = 1\n",
      "   |   |  ecpl      = [uncompressed]\n",
      "   |   |###[ TLS Extension - Session Ticket ]### \n",
      "   |   |  type      = session_ticket\n",
      "   |   |  len       = 0\n",
      "   |   |  ticket    = ''\n",
      "   |   |###[ TLS Extension - Key Share (for ClientHello) ]### \n",
      "   |   |  type      = key_share\n",
      "   |   |  len       = 38\n",
      "   |   |  client_shares_len= 36\n",
      "   |   |  \\client_shares\\\n",
      "   |   |   |###[ Key Share Entry ]### \n",
      "   |   |   |  group     = x25519\n",
      "   |   |   |  kxlen     = 32\n",
      "   |   |   |  key_exchange= '5\\xe5\\x8b\\x16\\r\\xb6\\x12O\\x01\\xa1\\xd2GZ\"\\xb7*\\xbdh\\x96p\\x1e\\xedL~\\xfda$\\xee#\\x1b\\xa4X'\n",
      "   |   |###[ TLS Extension - Supported Versions ]### \n",
      "   |   |  type      = supported_versions\n",
      "   |   |  len       = 7\n",
      "   |   |  versionslen= 6\n",
      "   |   |  versions  = [TLS 1.3-d18, TLS 1.2, TLS 1.1]\n",
      "   |   |###[ TLS Extension - Signature Algorithms ]### \n",
      "   |   |  type      = signature_algorithms\n",
      "   |   |  len       = 32\n",
      "   |   |  sig_algs_len= 30\n",
      "   |   |  sig_algs  = [sha256+ecdsa, sha384+ecdsa, sha512+ecdsa, sha1+ecdsa, sha256+rsapss, sha384+rsapss, sha512+rsapss, sha256+rsa, sha384+rsa, sha512+rsa, sha1+rsa, sha256+dsa, sha384+dsa, sha512+dsa, sha1+dsa]\n",
      "   |   |###[ TLS Extension - PSK Key Exchange Modes ]### \n",
      "   |   |  type      = psk_key_exchange_modes\n",
      "   |   |  len       = 2\n",
      "   |   |  kxmodeslen= 1\n",
      "   |   |  kxmodes   = [psk_dhe_ke]\n",
      "  mac       = ''\n",
      "  pad       = ''\n",
      "  padlen    = None\n",
      "\n"
     ]
    }
   ],
   "source": [
    "record1_str = open('../notebooks/raw_data/tls_session_13/01_cli.raw').read()\n",
    "record1 = TLS(record1_str)\n",
    "record1.show()"
   ]
  },
  {
   "cell_type": "code",
   "execution_count": 3,
   "metadata": {
    "collapsed": false
   },
   "outputs": [],
   "source": [
    "# The PFS relies on the X25519 secret below being kept from observers, and deleted right after the key exchange\n",
    "from cryptography.hazmat.primitives.asymmetric.x25519 import X25519PrivateKey\n",
    "x25519_client_privkey = open('../notebooks/raw_data/tls_session_13/cli_key.raw').read()\n",
    "privkey = X25519PrivateKey._from_private_bytes(x25519_client_privkey)\n",
    "record1.tls_session.tls13_client_privshares[\"x25519\"] = privkey"
   ]
  },
  {
   "cell_type": "code",
   "execution_count": 4,
   "metadata": {
    "collapsed": false
   },
   "outputs": [
    {
     "name": "stdout",
     "output_type": "stream",
     "text": [
      "###[ TLS ]### \n",
      "  type      = handshake\n",
      "  version   = TLS 1.0\n",
      "  len       = 82\n",
      "  iv        = ''\n",
      "  \\msg       \\\n",
      "   |###[ TLS 1.3 Handshake - Server Hello ]### \n",
      "   |  msgtype   = server_hello\n",
      "   |  msglen    = 78\n",
      "   |  version   = TLS 1.3-d18\n",
      "   |  random_bytes= 98e34364038683391cbec1039aa0fba2f496d8c8e6327151cc94bbc5ef739075\n",
      "   |  cipher    = TLS_AES_128_GCM_SHA256\n",
      "   |  extlen    = 40\n",
      "   |  \\ext       \\\n",
      "   |   |###[ TLS Extension - Key Share (for ServerHello) ]### \n",
      "   |   |  type      = key_share\n",
      "   |   |  len       = 36\n",
      "   |   |  \\server_share\\\n",
      "   |   |   |###[ Key Share Entry ]### \n",
      "   |   |   |  group     = x25519\n",
      "   |   |   |  kxlen     = 32\n",
      "   |   |   |  key_exchange= '\\xa2\\x0e\\xd1\\xb7\\xf2\\xd9j\\x7f\\x12V\\x8f\\x0eF\\x0b\\xb0\\xfc\\x86\\xdc\\x8d\\x1d\\xb6\\xc0}k\\x10\\xd4\\xdct\\xaa\\xac\\x92\\x19'\n",
      "  mac       = ''\n",
      "  pad       = ''\n",
      "  padlen    = None\n",
      "\n"
     ]
    }
   ],
   "source": [
    "record2_str = open('../notebooks/raw_data/tls_session_13/02_srv.raw').read()\n",
    "record2 = TLS(record2_str, tls_session=record1.tls_session.mirror())\n",
    "record2.show()"
   ]
  },
  {
   "cell_type": "code",
   "execution_count": 5,
   "metadata": {
    "collapsed": false
   },
   "outputs": [
    {
     "name": "stdout",
     "output_type": "stream",
     "text": [
      "###[ TLS 1.3 ]### \n",
      "  type      = application_data\n",
      "  version   = TLS 1.0\n",
      "  len       = 668    [deciphered_len= 652]\n",
      "  \\inner     \\\n",
      "   |###[ TLS Inner Plaintext ]### \n",
      "   |  \\msg       \\\n",
      "   |   |###[ TLS 1.3 Handshake - Encrypted Extensions ]### \n",
      "   |   |  msgtype   = encrypted_extensions\n",
      "   |   |  msglen    = 30\n",
      "   |   |  extlen    = 28\n",
      "   |   |  \\ext       \\\n",
      "   |   |   |###[ TLS Extension - Supported Groups ]### \n",
      "   |   |   |  type      = supported_groups\n",
      "   |   |   |  len       = 20\n",
      "   |   |   |  groupslen = 18\n",
      "   |   |   |  groups    = [x25519, secp256r1, secp384r1, secp521r1, ffdhe2048, ffdhe3072, ffdhe4096, ffdhe6144, ffdhe8192]\n",
      "   |   |   |###[ TLS Extension - Server Name ]### \n",
      "   |   |   |  type      = server_name\n",
      "   |   |   |  len       = 0\n",
      "   |   |   |  servernameslen= None\n",
      "   |   |   |  servernames= []\n",
      "   |   |###[ TLS 1.3 Handshake - Certificate ]### \n",
      "   |   |  msgtype   = certificate\n",
      "   |   |  msglen    = 441\n",
      "   |   |  cert_req_ctxt_len= 0\n",
      "   |   |  cert_req_ctxt= ''\n",
      "   |   |  certslen  = 437\n",
      "   |   |  \\certs     \\\n",
      "   |   |   |###[ Certificate and Extensions ]### \n",
      "   |   |   |  cert      = (432, [X.509 Cert. Subject:/CN=rsa, Issuer:/CN=rsa])\n",
      "   |   |   |  extlen    = 0\n",
      "   |   |   |  \\ext       \\\n",
      "   |   |###[ TLS Handshake - Certificate Verify ]### \n",
      "   |   |  msgtype   = certificate_verify\n",
      "   |   |  msglen    = 132\n",
      "   |   |  \\sig       \\\n",
      "   |   |   |###[ TLS Digital Signature ]### \n",
      "   |   |   |  sig_alg   = sha256+rsapss\n",
      "   |   |   |  sig_len   = 128\n",
      "   |   |   |  sig_val   = \"\\x8d\\x8d^\\xd7\\xee\\x8eO\\xa5R\\xaa\\xa1'\\x9b\\x8f\\\\9\\xe49L\\xf2\\x0e\\x8cS\\xef\\x1a\\xde\\x12\\xf9\\xbd\\x923qi\\xb2\\x18\\xe4tk\\x19\\x81|\\xbd\\xef\\x94\\x10\\x15\\x1c\\xbf1C\\xec\\xc1\\xc0u\\x07m\\x97q7\\x9c\\xcc\\xa3e\\xce\\x01\\xd0\\xdc\\xce+\\xa1\\xeaJ^N7\\xf3bYEt\\xc3\\xe6\\xcb\\x1aJ\\xfc\\xfa5G\\xce\\x08\\x15]\\xe7\\xa6\\xcc=\\xb9u$x\\x91=\\xb1\\x05G\\xcf \\x13\\xb2O?\\xcda\\xa2\\xdb\\xe6\\xd2\\xa7\\xdc%\\x97\\xdd\\xf8\\x80\\xec\\x1fX\"\n",
      "   |   |###[ TLS Handshake - Finished ]### \n",
      "   |   |  msgtype   = finished\n",
      "   |   |  msglen    = 32\n",
      "   |   |  vdata     = 'Q\\xf93\\xcd\\x8e\\xfeP8E\\xc3;\\x87\\x11\\x9f\\xc6}I\\x91\\xb6\\xff\\xa9\\xf5 \\xae\\x0b\\x1a7\\xf7\\xea\\xbb.\\xcc'\n",
      "   |  type      = handshake\n",
      "   |  pad       = ''\n",
      "  auth_tag  = '1\\x84\\x9dL\\xf8\\x88b\\x8b\\xa2\\x88T\\x8d\\xf6\\xa1\\x9e\\xc4'\n",
      "\n"
     ]
    }
   ],
   "source": [
    "record3_str = open('../notebooks/raw_data/tls_session_13/03_srv.raw').read()\n",
    "record3 = TLS(record3_str, tls_session=record2.tls_session)\n",
    "record3.show()"
   ]
  },
  {
   "cell_type": "code",
   "execution_count": 6,
   "metadata": {
    "collapsed": false
   },
   "outputs": [
    {
     "name": "stdout",
     "output_type": "stream",
     "text": [
      "###[ TLS 1.3 ]### \n",
      "  type      = application_data\n",
      "  version   = TLS 1.0\n",
      "  len       = 53    [deciphered_len= 37]\n",
      "  \\inner     \\\n",
      "   |###[ TLS Inner Plaintext ]### \n",
      "   |  \\msg       \\\n",
      "   |   |###[ TLS Handshake - Finished ]### \n",
      "   |   |  msgtype   = finished\n",
      "   |   |  msglen    = 32\n",
      "   |   |  vdata     = '\\x1a^\\xb0\\xba_\\x92\\xf3N\\xd0\\x05\\x9dd\\xce\\xdd*} \\x8f%\\xf0\\x0e(\\x13\\x81\\x17\\xfb9t\\xd4\\x15wj'\n",
      "   |  type      = handshake\n",
      "   |  pad       = ''\n",
      "  auth_tag  = '\\xec\\xfc\\x96\\x96$\\xd6\\x8e\\x19\\xd8\\x8c>g\\xcc\\xb4\\x8b\\xdf'\n",
      "\n"
     ]
    }
   ],
   "source": [
    "record4_str = open('../notebooks/raw_data/tls_session_13/04_cli.raw').read()\n",
    "record4 = TLS(record4_str, tls_session=record3.tls_session.mirror())\n",
    "record4.show()"
   ]
  },
  {
   "cell_type": "code",
   "execution_count": 7,
   "metadata": {
    "collapsed": false
   },
   "outputs": [
    {
     "name": "stdout",
     "output_type": "stream",
     "text": [
      "###[ TLS 1.3 ]### \n",
      "  type      = application_data\n",
      "  version   = TLS 1.0\n",
      "  len       = 187    [deciphered_len= 171]\n",
      "  \\inner     \\\n",
      "   |###[ TLS Inner Plaintext ]### \n",
      "   |  \\msg       \\\n",
      "   |   |###[ TLS Handshake - New Session Ticket ]### \n",
      "   |   |  msgtype   = session_ticket\n",
      "   |   |  msglen    = 166\n",
      "   |   |  ticket_lifetime= 172800\n",
      "   |   |  ticket_age_add= 1358609079\n",
      "   |   |  ticketlen = 146\n",
      "   |   |  ticket    = 'NSS!\\xe5\\xc1\\x02\\xaa$\\x98R\\xac\\x81\\xf0\\x80\\xbcb\\xbd^ij\\r\\x8a!0\\xe9\\x80\\xe3{\\x905\\xaa\\x00P@:\\tE\\x1cI\\x7f\\x08%`\\x9b\\xac\\x97lY\\xf2\\xd5?\\x15\\x90Q\\xd2\\xfc_\\xcfK\\xd6\\x8a\\xe4\\x88m\\xd9\\xa0QD\\xd0|Z&F\\x17~\\x94\\x01_vN\\xdd^\\xcf;~\\xa4\\x04/)\\xa6\"P\\x92\\xb1\\x1b\\xa8\\xec \\xe1|\\\\o\\xff\\x9a8\\xc5l\\xf27;+\\xd58`\\xe5\\xb0\\xb9\\x83\\xe8*\\xa2\\xaer\\xcb\"[\\x9diQg\\xed\\tc\\xcc\\xea\\xbf\\xa1\\t\\xe1\\xb2\\xe5\\x10O\\xec4'\n",
      "   |   |  extlen    = 8\n",
      "   |   |  \\ext       \\\n",
      "   |   |   |###[ TLS Extension - Ticket Early Data Info ]### \n",
      "   |   |   |  type      = ticket_early_data_info\n",
      "   |   |   |  len       = 4\n",
      "   |   |   |  max_early_data_size= 131072\n",
      "   |  type      = handshake\n",
      "   |  pad       = ''\n",
      "  auth_tag  = ']\\x0fE\\x9d+\\x113\\xd1\\xd5\\xd3|\\xd4A\\x19-\\xa7'\n",
      "\n"
     ]
    }
   ],
   "source": [
    "record5_str = open('../notebooks/raw_data/tls_session_13/05_srv.raw').read()\n",
    "record5 = TLS(record5_str, tls_session=record4.tls_session.mirror())\n",
    "record5.show()"
   ]
  },
  {
   "cell_type": "code",
   "execution_count": 8,
   "metadata": {
    "collapsed": false
   },
   "outputs": [
    {
     "name": "stdout",
     "output_type": "stream",
     "text": [
      "###[ TLS 1.3 ]### \n",
      "  type      = application_data\n",
      "  version   = TLS 1.0\n",
      "  len       = 67    [deciphered_len= 51]\n",
      "  \\inner     \\\n",
      "   |###[ TLS Inner Plaintext ]### \n",
      "   |  \\msg       \\\n",
      "   |   |###[ TLS Application Data ]### \n",
      "   |   |  data      = '\\x00\\x01\\x02\\x03\\x04\\x05\\x06\\x07\\x08\\t\\n\\x0b\\x0c\\r\\x0e\\x0f\\x10\\x11\\x12\\x13\\x14\\x15\\x16\\x17\\x18\\x19\\x1a\\x1b\\x1c\\x1d\\x1e\\x1f !\"#$%&\\'()*+,-./01'\n",
      "   |  type      = application_data\n",
      "   |  pad       = ''\n",
      "  auth_tag  = '\\x0c\\xc3\\xe7`J\\xe6a\\xf0\\xaf\\xa2\\xf7u\\xc3f\\x88g'\n",
      "\n"
     ]
    }
   ],
   "source": [
    "record6_str = open('../notebooks/raw_data/tls_session_13/06_cli.raw').read()\n",
    "record6 = TLS(record6_str, tls_session=record5.tls_session.mirror())\n",
    "record6.show()"
   ]
  },
  {
   "cell_type": "markdown",
   "metadata": {},
   "source": [
    "## Observations sur TLS 1.3\n",
    "* Certificat désormais chiffré...\n",
    "* ...mais pas le Server Name dans le ClientHello\n",
    "* Risques du mode 0-RTT"
   ]
  }
 ],
 "metadata": {
  "kernelspec": {
   "display_name": "Python 2",
   "language": "python",
   "name": "python2"
  },
  "language_info": {
   "codemirror_mode": {
    "name": "ipython",
    "version": 2
   },
   "file_extension": ".py",
   "mimetype": "text/x-python",
   "name": "python",
   "nbconvert_exporter": "python",
   "pygments_lexer": "ipython2",
   "version": "2.7.13"
  }
 },
 "nbformat": 4,
 "nbformat_minor": 2
}
