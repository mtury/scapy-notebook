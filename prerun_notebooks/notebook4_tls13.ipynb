{
 "cells": [
  {
   "cell_type": "markdown",
   "metadata": {},
   "source": [
    "# TLS 1.3 handshake overview\n",
    "This is the basic TLS 1.3 handshake:\n",
    "\n",
    "<img src=\"../notebooks/images/handshake_tls13.png\" alt=\"Handshake TLS 1.3\" width=\"400\"/>"
   ]
  },
  {
   "cell_type": "code",
   "execution_count": 1,
   "metadata": {
    "collapsed": true
   },
   "outputs": [],
   "source": [
    "from scapy.all import *"
   ]
  },
  {
   "cell_type": "code",
   "execution_count": 2,
   "metadata": {},
   "outputs": [
    {
     "name": "stdout",
     "output_type": "stream",
     "text": [
      "###[ TLS ]### \n",
      "  type      = handshake\n",
      "  version   = TLS 1.0\n",
      "  len       = 174\n",
      "  iv        = ''\n",
      "  \\msg       \\\n",
      "   |###[ TLS Handshake - Client Hello ]### \n",
      "   |  msgtype   = client_hello\n",
      "   |  msglen    = 170\n",
      "   |  version   = TLS 1.2\n",
      "   |  gmt_unix_time= Wed, 07 Nov 2085 08:42:53 +0000 (3655960973)\n",
      "   |  random_bytes= f63d43adbe64a2634f0b63bcdc4019a3e526bc013a6042e05b14555c\n",
      "   |  sidlen    = 0\n",
      "   |  sid       = ''\n",
      "   |  cipherslen= 6\n",
      "   |  ciphers   = [TLS_AES_128_GCM_SHA256, TLS_CHACHA20_POLY1305_SHA256, TLS_AES_256_GCM_SHA384]\n",
      "   |  complen   = 1\n",
      "   |  comp      = null\n",
      "   |  extlen    = 123\n",
      "   |  \\ext       \\\n",
      "   |   |###[ TLS Extension - Server Name ]### \n",
      "   |   |  type      = server_name\n",
      "   |   |  len       = 11\n",
      "   |   |  servernameslen= 9\n",
      "   |   |  servernames= [server]\n",
      "   |   |###[ TLS Extension - Renegotiation Indication ]### \n",
      "   |   |  type      = renegotiation_info\n",
      "   |   |  len       = 1\n",
      "   |   |  reneg_conn_len= 0\n",
      "   |   |  renegotiated_connection= ''\n",
      "   |   |###[ TLS Extension - Supported Groups ]### \n",
      "   |   |  type      = supported_groups\n",
      "   |   |  len       = 8\n",
      "   |   |  groupslen = 6\n",
      "   |   |  groups    = [x25519, secp256r1, secp384r1]\n",
      "   |   |###[ TLS Extension - Key Share (for ClientHello) ]### \n",
      "   |   |  type      = key_share\n",
      "   |   |  len       = 38\n",
      "   |   |  client_shares_len= 36\n",
      "   |   |  \\client_shares\\\n",
      "   |   |   |###[ Key Share Entry ]### \n",
      "   |   |   |  group     = x25519\n",
      "   |   |   |  kxlen     = 32\n",
      "   |   |   |  key_exchange= '\\x05\\xef\\xa9M\\x13\\xf5\\xad\\xcd\\x14!\\x93y\\xd5\\xa3}\\xbc\\xe4r\\x1d\\x92\\x94\\xe5r\\xc6e\\x1a\\xebv\\x188\\x81['\n",
      "   |   |###[ TLS Extension - Supported Versions ]### \n",
      "   |   |  type      = supported_versions\n",
      "   |   |  len       = 3\n",
      "   |   |  versionslen= 2\n",
      "   |   |  versions  = [TLS 1.3-d18]\n",
      "   |   |###[ TLS Extension - Signature Algorithms ]### \n",
      "   |   |  type      = signature_algorithms\n",
      "   |   |  len       = 32\n",
      "   |   |  sig_algs_len= 30\n",
      "   |   |  sig_algs  = [sha256+ecdsa, sha384+ecdsa, sha512+ecdsa, sha1+ecdsa, sha256+rsapss, sha384+rsapss, sha512+rsapss, sha256+rsa, sha384+rsa, sha512+rsa, sha1+rsa, sha256+dsa, sha384+dsa, sha512+dsa, sha1+dsa]\n",
      "   |   |###[ TLS Extension - PSK Key Exchange Modes ]### \n",
      "   |   |  type      = psk_key_exchange_modes\n",
      "   |   |  len       = 2\n",
      "   |   |  kxmodeslen= 1\n",
      "   |   |  kxmodes   = [psk_dhe_ke]\n",
      "  mac       = ''\n",
      "  pad       = ''\n",
      "  padlen    = None\n",
      "\n"
     ]
    }
   ],
   "source": [
    "record1_str = open('../notebooks/raw_data/tls_session_13/01_cli.raw').read()\n",
    "record1 = TLS(record1_str)\n",
    "sess = record1.tls_session\n",
    "record1.show()"
   ]
  },
  {
   "cell_type": "code",
   "execution_count": 3,
   "metadata": {},
   "outputs": [
    {
     "name": "stdout",
     "output_type": "stream",
     "text": [
      "###[ TLS ]### \n",
      "  type      = handshake\n",
      "  version   = TLS 1.0\n",
      "  len       = 14\n",
      "  iv        = ''\n",
      "  \\msg       \\\n",
      "   |###[ TLS 1.3 Handshake - Hello Retry Request ]### \n",
      "   |  msgtype   = hello_retry_request\n",
      "   |  msglen    = 10\n",
      "   |  version   = TLS 1.3-d18\n",
      "   |  extlen    = 6\n",
      "   |  \\ext       \\\n",
      "   |   |###[ TLS Extension - Key Share (for HelloRetryRequest) ]### \n",
      "   |   |  type      = key_share\n",
      "   |   |  len       = 2\n",
      "   |   |  selected_group= secp256r1\n",
      "  mac       = ''\n",
      "  pad       = ''\n",
      "  padlen    = None\n",
      "\n"
     ]
    }
   ],
   "source": [
    "record2_str = open('../notebooks/raw_data/tls_session_13/02_srv.raw').read()\n",
    "record2 = TLS(record2_str, tls_session=sess.mirror())\n",
    "record2.show()"
   ]
  },
  {
   "cell_type": "code",
   "execution_count": 4,
   "metadata": {},
   "outputs": [
    {
     "name": "stdout",
     "output_type": "stream",
     "text": [
      "###[ TLS ]### \n",
      "  type      = handshake\n",
      "  version   = TLS 1.0\n",
      "  len       = 207\n",
      "  iv        = ''\n",
      "  \\msg       \\\n",
      "   |###[ TLS Handshake - Client Hello ]### \n",
      "   |  msgtype   = client_hello\n",
      "   |  msglen    = 203\n",
      "   |  version   = TLS 1.2\n",
      "   |  gmt_unix_time= Wed, 07 Nov 2085 08:42:53 +0000 (3655960973)\n",
      "   |  random_bytes= f63d43adbe64a2634f0b63bcdc4019a3e526bc013a6042e05b14555c\n",
      "   |  sidlen    = 0\n",
      "   |  sid       = ''\n",
      "   |  cipherslen= 6\n",
      "   |  ciphers   = [TLS_AES_128_GCM_SHA256, TLS_CHACHA20_POLY1305_SHA256, TLS_AES_256_GCM_SHA384]\n",
      "   |  complen   = 1\n",
      "   |  comp      = null\n",
      "   |  extlen    = 156\n",
      "   |  \\ext       \\\n",
      "   |   |###[ TLS Extension - Server Name ]### \n",
      "   |   |  type      = server_name\n",
      "   |   |  len       = 11\n",
      "   |   |  servernameslen= 9\n",
      "   |   |  servernames= [server]\n",
      "   |   |###[ TLS Extension - Renegotiation Indication ]### \n",
      "   |   |  type      = renegotiation_info\n",
      "   |   |  len       = 1\n",
      "   |   |  reneg_conn_len= 0\n",
      "   |   |  renegotiated_connection= ''\n",
      "   |   |###[ TLS Extension - Supported Groups ]### \n",
      "   |   |  type      = supported_groups\n",
      "   |   |  len       = 8\n",
      "   |   |  groupslen = 6\n",
      "   |   |  groups    = [x25519, secp256r1, secp384r1]\n",
      "   |   |###[ TLS Extension - Key Share (for ClientHello) ]### \n",
      "   |   |  type      = key_share\n",
      "   |   |  len       = 71\n",
      "   |   |  client_shares_len= 69\n",
      "   |   |  \\client_shares\\\n",
      "   |   |   |###[ Key Share Entry ]### \n",
      "   |   |   |  group     = secp256r1\n",
      "   |   |   |  kxlen     = 65\n",
      "   |   |   |  key_exchange= \"\\x04\\x1eZx_T\\x17\\xfb\\x18\\xdbB\\x93\\x8454\\xa5\\xc0\\xbantK\\xaahF\\xd0\\xb3/N\\x9e\\xa3\\x92'$\\xa0\\x8f*\\xdb\\t\\xf0q\\xf8\\x14\\x02\\xe7\\xfd\\x8c\\xa3;v\\xab\\xe1\\xcdUo\\xd3\\xe8\\xfe \\xe0\\xfd.\\x82\\x02\\xf9i\"\n",
      "   |   |###[ TLS Extension - Supported Versions ]### \n",
      "   |   |  type      = supported_versions\n",
      "   |   |  len       = 3\n",
      "   |   |  versionslen= 2\n",
      "   |   |  versions  = [TLS 1.3-d18]\n",
      "   |   |###[ TLS Extension - Signature Algorithms ]### \n",
      "   |   |  type      = signature_algorithms\n",
      "   |   |  len       = 32\n",
      "   |   |  sig_algs_len= 30\n",
      "   |   |  sig_algs  = [sha256+ecdsa, sha384+ecdsa, sha512+ecdsa, sha1+ecdsa, sha256+rsapss, sha384+rsapss, sha512+rsapss, sha256+rsa, sha384+rsa, sha512+rsa, sha1+rsa, sha256+dsa, sha384+dsa, sha512+dsa, sha1+dsa]\n",
      "   |   |###[ TLS Extension - PSK Key Exchange Modes ]### \n",
      "   |   |  type      = psk_key_exchange_modes\n",
      "   |   |  len       = 2\n",
      "   |   |  kxmodeslen= 1\n",
      "   |   |  kxmodes   = [psk_dhe_ke]\n",
      "  mac       = ''\n",
      "  pad       = ''\n",
      "  padlen    = None\n",
      "\n"
     ]
    }
   ],
   "source": [
    "record3_str = open('../notebooks/raw_data/tls_session_13/03_cli.raw').read()\n",
    "record3 = TLS(record3_str, tls_session=sess.mirror())\n",
    "record3.show()"
   ]
  },
  {
   "cell_type": "code",
   "execution_count": 5,
   "metadata": {
    "collapsed": true
   },
   "outputs": [],
   "source": [
    "# The PFS relies on the ECDH secret below being kept from observers, and deleted right after the key exchange\n",
    "from cryptography.hazmat.primitives.asymmetric.ec import EllipticCurvePrivateNumbers\n",
    "from cryptography.hazmat.backends import default_backend\n",
    "secp256r1_client_privkey = open('../notebooks/raw_data/tls_session_13/cli_key.raw').read()\n",
    "pubnum = sess.tls13_client_pubshares[\"secp256r1\"].public_numbers()\n",
    "privnum = EllipticCurvePrivateNumbers(pkcs_os2ip(secp256r1_client_privkey), pubnum)\n",
    "privkey = privnum.private_key(default_backend())\n",
    "sess.tls13_client_privshares[\"secp256r1\"] = privkey"
   ]
  },
  {
   "cell_type": "code",
   "execution_count": 6,
   "metadata": {
    "scrolled": true
   },
   "outputs": [
    {
     "name": "stdout",
     "output_type": "stream",
     "text": [
      "###[ TLS ]### \n",
      "  type      = handshake\n",
      "  version   = TLS 1.0\n",
      "  len       = 115\n",
      "  iv        = ''\n",
      "  \\msg       \\\n",
      "   |###[ TLS 1.3 Handshake - Server Hello ]### \n",
      "   |  msgtype   = server_hello\n",
      "   |  msglen    = 111\n",
      "   |  version   = TLS 1.3-d18\n",
      "   |  random_bytes= 96ff693075d8465651a9c28773f5496542206ba390199b9c997545d9a1266615\n",
      "   |  cipher    = TLS_AES_128_GCM_SHA256\n",
      "   |  extlen    = 73\n",
      "   |  \\ext       \\\n",
      "   |   |###[ TLS Extension - Key Share (for ServerHello) ]### \n",
      "   |   |  type      = key_share\n",
      "   |   |  len       = 69\n",
      "   |   |  \\server_share\\\n",
      "   |   |   |###[ Key Share Entry ]### \n",
      "   |   |   |  group     = secp256r1\n",
      "   |   |   |  kxlen     = 65\n",
      "   |   |   |  key_exchange= '\\x04\\x8aM\\t\\xcd\\xe5\\x8d\\xbc\\x04\\x19U\\xb9\\xa4\\x1aC\\xc1im\\xc5B\\x9f\\xfa\\x96\\xf9\\xcd\\x19J\\x86:\\xc7\\x82\\xf1\\x81Y\\xf0r\\xb4\\xf6\\x10!]\\x86@}\\xd76\\x8buJ\\xb2\\xe6O,\\x1b?\\x9dE|&N+\\x17\\x81\\xa3k'\n",
      "  mac       = ''\n",
      "  pad       = ''\n",
      "  padlen    = None\n",
      "\n"
     ]
    }
   ],
   "source": [
    "record4_str = open('../notebooks/raw_data/tls_session_13/04_srv.raw').read()\n",
    "record4 = TLS(record4_str, tls_session=sess.mirror())\n",
    "record4.show()"
   ]
  },
  {
   "cell_type": "code",
   "execution_count": 7,
   "metadata": {},
   "outputs": [
    {
     "name": "stdout",
     "output_type": "stream",
     "text": [
      "###[ TLS 1.3 ]### \n",
      "  type      = application_data\n",
      "  version   = TLS 1.0\n",
      "  len       = 656    [deciphered_len= 640]\n",
      "  \\inner     \\\n",
      "   |###[ TLS Inner Plaintext ]### \n",
      "   |  \\msg       \\\n",
      "   |   |###[ TLS 1.3 Handshake - Encrypted Extensions ]### \n",
      "   |   |  msgtype   = encrypted_extensions\n",
      "   |   |  msglen    = 18\n",
      "   |   |  extlen    = 16\n",
      "   |   |  \\ext       \\\n",
      "   |   |   |###[ TLS Extension - Supported Groups ]### \n",
      "   |   |   |  type      = supported_groups\n",
      "   |   |   |  len       = 8\n",
      "   |   |   |  groupslen = 6\n",
      "   |   |   |  groups    = [secp256r1, secp384r1, x25519]\n",
      "   |   |   |###[ TLS Extension - Server Name ]### \n",
      "   |   |   |  type      = server_name\n",
      "   |   |   |  len       = 0\n",
      "   |   |   |  servernameslen= None\n",
      "   |   |   |  servernames= []\n",
      "   |   |###[ TLS 1.3 Handshake - Certificate ]### \n",
      "   |   |  msgtype   = certificate\n",
      "   |   |  msglen    = 441\n",
      "   |   |  cert_req_ctxt_len= 0\n",
      "   |   |  cert_req_ctxt= ''\n",
      "   |   |  certslen  = 437\n",
      "   |   |  \\certs     \\\n",
      "   |   |   |###[ Certificate and Extensions ]### \n",
      "   |   |   |  cert      = (432, [X.509 Cert. Subject:/CN=rsa, Issuer:/CN=rsa])\n",
      "   |   |   |  extlen    = 0\n",
      "   |   |   |  \\ext       \\\n",
      "   |   |###[ TLS Handshake - Certificate Verify ]### \n",
      "   |   |  msgtype   = certificate_verify\n",
      "   |   |  msglen    = 132\n",
      "   |   |  \\sig       \\\n",
      "   |   |   |###[ TLS Digital Signature ]### \n",
      "   |   |   |  sig_alg   = sha256+rsapss\n",
      "   |   |   |  sig_len   = 128\n",
      "   |   |   |  sig_val   = '\\xa2Bz\\xe5\\xf8\\x0c\\x99\\xee\\x8er\\xb7\\xdd\\xee\\xb2\\xf5\\x12E\\x8f\\x7fc%\\x1b\\x8aw\\xac\\xe3\\xb1Wz\\xac\\x9a\\x8f\\xcds\\xbbj3Z4F\\xd6k-\\xeb\\xb7\\xf9\\rn\\xb8p\\x1f:\\xb1iy2\\x95\\xb3BQ\\xb9\\xe6\\xd5\\xfe\\x02QG\\x8e\\x8aj\\xb8\\xb7\\x96Q\\xead\\xc9\\xb5\\x98\\xc8b\\x88\\x93\\xc8g\\x9bt\\x00\\x17{\\xc5\\xe4W\\xa591k^\\xbd}\\x08\\xf3\\x80Y?\\x05A\\xd7\\x81\\xf0\\xdd(\\xb4\\x1a\\x06*\\xad\\xe8\\xbf \\x07Ln\\xda\\x9c\\x01\\xc7['\n",
      "   |   |###[ TLS Handshake - Finished ]### \n",
      "   |   |  msgtype   = finished\n",
      "   |   |  msglen    = 32\n",
      "   |   |  vdata     = '\\x8e\\x0b\\xdf<\\xb1k\\x0b%`Q\\xb3}\\xe6pN\\x00]*F\\x00\\xcd\\x0c8\\xca\\xe9\\ny\\xea\\xc6\\xed\\x1b\\xf1'\n",
      "   |  type      = handshake\n",
      "   |  pad       = ''\n",
      "  auth_tag  = '\\xc2*,\\xa2\\xbd\\xd9\\x12j,\\xe1=p\\x15&I!'\n",
      "\n"
     ]
    }
   ],
   "source": [
    "record5_str = open('../notebooks/raw_data/tls_session_13/05_srv.raw').read()\n",
    "record5 = TLS(record5_str, tls_session=sess)\n",
    "record5.show()"
   ]
  },
  {
   "cell_type": "code",
   "execution_count": 8,
   "metadata": {},
   "outputs": [
    {
     "name": "stdout",
     "output_type": "stream",
     "text": [
      "###[ TLS 1.3 ]### \n",
      "  type      = application_data\n",
      "  version   = TLS 1.0\n",
      "  len       = 53    [deciphered_len= 37]\n",
      "  \\inner     \\\n",
      "   |###[ TLS Inner Plaintext ]### \n",
      "   |  \\msg       \\\n",
      "   |   |###[ TLS Handshake - Finished ]### \n",
      "   |   |  msgtype   = finished\n",
      "   |   |  msglen    = 32\n",
      "   |   |  vdata     = \"\\xfcS\\xf1\\xbe\\xb1Co\\xb9h1\\x92\\x99\\xa9\\xe3\\xb6\\x08\\x8c\\xc9\\x9eB\\x17\\x8cw3{\\xc5'\\x86\\xd0\\x84\\x88/\"\n",
      "   |  type      = handshake\n",
      "   |  pad       = ''\n",
      "  auth_tag  = '\\xe8\\xb04-e\\xdb\\x8a\\x7f\\x07N\\xedR~\\xa6\\x98\\xa6'\n",
      "\n"
     ]
    }
   ],
   "source": [
    "record6_str = open('../notebooks/raw_data/tls_session_13/06_cli.raw').read()\n",
    "record6 = TLS(record6_str, tls_session=sess.mirror())\n",
    "record6.show()"
   ]
  },
  {
   "cell_type": "markdown",
   "metadata": {},
   "source": [
    "## Observations sur TLS 1.3\n",
    "* Certificat désormais chiffré...\n",
    "* ...mais pas le Server Name dans le ClientHello\n",
    "* Risques du mode 0-RTT"
   ]
  }
 ],
 "metadata": {
  "kernelspec": {
   "display_name": "Python 2",
   "language": "python",
   "name": "python2"
  },
  "language_info": {
   "codemirror_mode": {
    "name": "ipython",
    "version": 2
   },
   "file_extension": ".py",
   "mimetype": "text/x-python",
   "name": "python",
   "nbconvert_exporter": "python",
   "pygments_lexer": "ipython2",
   "version": "2.7.13"
  }
 },
 "nbformat": 4,
 "nbformat_minor": 2
}
